{
 "cells": [
  {
   "cell_type": "code",
   "execution_count": null,
   "metadata": {},
   "outputs": [],
   "source": [
    "import numpy as np\n",
    "import pandas as pd\n",
    "from decimal import Decimal\n",
    "from uniswap import *\n",
    "from datetime import datetime,timezone\n",
    "from data_downloading import *\n",
    "\n",
    "\n",
    "\n",
    "\n"
   ]
  },
  {
   "cell_type": "code",
   "execution_count": 61,
   "id": "71ff9351",
   "metadata": {},
   "outputs": [],
   "source": [
    "#We let token0 = WETH, token1 = USDC\n",
    "token0 = 'WETH'\n",
    "token1 = 'USDC'\n",
    "decimal_0 = 18\n",
    "decimal_1 = 6\n",
    "fee_tier = 0.0005\n",
    "tickspacing = 10"
   ]
  },
  {
   "cell_type": "markdown",
   "id": "cffeb7e7",
   "metadata": {},
   "source": [
    "## Fetch data  "
   ]
  },
  {
   "cell_type": "code",
   "execution_count": null,
   "id": "28cc981e",
   "metadata": {},
   "outputs": [],
   "source": [
    "# subgraph api,url\n",
    "API_KEY = \"replace with your subgraph api key\"\n",
    "url = f\"https://gateway.thegraph.com/api/{API_KEY}/subgraphs/id/5zvR82QoaXYFyDEKLZ9t6v9adgnptxYpKpSbxtgVENFV\"\n",
    "pool_id = \"0x88e6a0c2ddd26feeb64f039a2c41296fcb3f5640\""
   ]
  },
  {
   "cell_type": "code",
   "execution_count": 106,
   "id": "34477987",
   "metadata": {},
   "outputs": [],
   "source": [
    "swap_attr =['logIndex','timestamp','amount0',\n",
    "        'amount1','amountUSD', 'sqrtPriceX96', 'tick']\n",
    "liq_attr = ['timestamp','logIndex','amount0','amount1',\n",
    "            'amount','tickLower','tickUpper']"
   ]
  },
  {
   "cell_type": "code",
   "execution_count": null,
   "id": "3993d4c3",
   "metadata": {},
   "outputs": [],
   "source": [
    "# Raw data\n",
    "df_swap =query_data('swaps',url=url,pool_id=pool_id,swap_attr)\n",
    "df_swap.rename(columns={'datetime':'time'},inplace=True)\n",
    "df_swap.to_csv(f'./data/{token0}H&{token1}_{int(fee_tier*1000)}bp_mainnet_swap.csv')\n",
    "\n",
    "df_mint =query_data('mints',url=url,pool_id=pool_id,liq_attr)\n",
    "df_mint.rename(columns={'datetime':'time'},inplace=True)\n",
    "df_mint.to_csv(f'./data/{token0}H&{token1}_{int(fee_tier*1000)}bp_mainnet_mint.csv')\n",
    "\n",
    "df_burn =query_data('burns',url=url,pool_id=pool_id,liq_attr)\n",
    "for col in df_burn.columns:\n",
    "    df_burn[col] = pd.to_numeric(df_burn[col].apply(Decimal))\n",
    "\n",
    "df_burn.loc[:,['amount','amount0','amount1']]=(df_burn[['amount','amount0','amount1']]*-1).copy()\n",
    "df_burn.rename(columns={'datetime':'time'},inplace=True)\n",
    "\n",
    "df_burn.to_csv(f'./data/{token0}H&{token1}_{int(fee_tier*1000)}bp_mainnet_burn.csv')\n"
   ]
  },
  {
   "cell_type": "markdown",
   "id": "ce8c6522",
   "metadata": {},
   "source": [
    "## Transform to human readable\n",
    "Note that in raw data, `sqrtPriceX96` corresponds to the square root price of USDC w.r.t WETH. So it is important to be mindful of the price and tick direction. \n"
   ]
  },
  {
   "cell_type": "markdown",
   "id": "69248a3e",
   "metadata": {},
   "source": [
    "### Swap"
   ]
  },
  {
   "cell_type": "code",
   "execution_count": null,
   "metadata": {},
   "outputs": [],
   "source": [
    "def sqrt_2_price(s):\n",
    "    s = int(float(Decimal(s)) )\n",
    "    return (transform_price_2_readable((s/2**96)**2))**-1 #take inverse to get WETH price\n",
    "\n",
    "\n",
    "df_swap.rename(columns={'amount0':token1,'amount1':token0},inplace=True)\n",
    "df_swap['price']=df_swap['sqrtPriceX96'].apply(sqrt_2_price)"
   ]
  },
  {
   "cell_type": "code",
   "execution_count": null,
   "id": "2c3c580f",
   "metadata": {},
   "outputs": [],
   "source": [
    "df_swap = df_swap.drop(columns='sqrtPriceX96')[['time','timestamp','logIndex','tick','USDC','WETH','price'] ]\n",
    "\n",
    "end ='2024-04-29 19:00:00'\n",
    "end_ts = int(datetime.strptime(end, \"%Y-%m-%d %H:%M:%S\").replace(tzinfo=timezone.utc).timestamp())\n",
    "df_swap=df_swap[df_swap['timestamp']<=end_ts]\n",
    "df_swap=df_swap.sort_values(['timestamp','logIndex'])\n",
    "df_swap.loc[:,'tick'] = (df_swap.loc[:,'tick']*-1).astype(int)\n",
    "\n"
   ]
  },
  {
   "cell_type": "markdown",
   "id": "f0cc77e2",
   "metadata": {},
   "source": [
    "### Mint/Burn"
   ]
  },
  {
   "cell_type": "code",
   "execution_count": null,
   "id": "227e52c1",
   "metadata": {},
   "outputs": [],
   "source": [
    "df_mint.rename(columns={'amount0':token1,'amount1':token0},inplace=True)\n",
    "df_burn.rename(columns={'amount0':token1,'amount1':token0},inplace=True)\n",
    "df_mint['time']= pd.to_datetime(df_mint['timestamp'],unit='s')\n",
    "df_burn['time']= pd.to_datetime(df_burn['timestamp'],unit='s')\n",
    "\n",
    "\n",
    "df_mint=df_mint[df_mint['timestamp']<=end_ts]\n",
    "df_burn=df_burn[df_burn['timestamp']<=end_ts]\n",
    "\n",
    "df_mint.loc[:,'logIndex'] = df_mint['logIndex'].astype(int).copy()\n",
    "df_burn.loc[:,'logIndex'] = df_burn['logIndex'].astype(int).copy()\n",
    "\n",
    "df_mint =df_mint[[ 'time','timestamp','logIndex','amount', f'{token0}', f'{token1}',  'tickLower', 'tickUpper']]\n",
    "df_burn =df_burn[[ 'time','timestamp','logIndex','amount', f'{token0}', f'{token1}',  'tickLower', 'tickUpper']]\n",
    "\n",
    "df_mb = pd.concat([df_mint,df_burn]).sort_values(['timestamp','logIndex'])\n",
    "df_mb=df_mb.reset_index().drop(columns='index')\n",
    "df_mb.loc[:,['tickUpper','tickLower'] ]= (df_mb[['tickUpper','tickLower'] ]*-1).astype(int).copy()\n",
    "df_mb.rename(columns={ 'tickUpper':'tickLower','tickLower':'tickUpper'},inplace=True)\n"
   ]
  },
  {
   "cell_type": "markdown",
   "id": "315e140b",
   "metadata": {},
   "source": [
    "## Liquidity profile"
   ]
  },
  {
   "cell_type": "markdown",
   "id": "87076ca2",
   "metadata": {},
   "source": [
    "Compute the historical liquidity profile, consider the range from the historical minimum to the maximum tick, extended by an additional 770 ticks on both sides (≈$8\\%$ in price)"
   ]
  },
  {
   "cell_type": "code",
   "execution_count": null,
   "id": "91acbfdc",
   "metadata": {},
   "outputs": [],
   "source": [
    "liq_profile(df_mb,df_swap['tick'].min()-770, df_swap['tick'].max()+770,tick_spacing=10)\n"
   ]
  },
  {
   "cell_type": "markdown",
   "id": "002ec5e2",
   "metadata": {},
   "source": [
    "## Add the liquidity before swap\n",
    "Adding the liquidity before each trade to swap data.\n"
   ]
  },
  {
   "cell_type": "code",
   "execution_count": null,
   "id": "b98504cc",
   "metadata": {},
   "outputs": [],
   "source": [
    "\n",
    "#read separatly and concat cost less memory than directly read the whole file\n",
    "df_liq = pd.concat( [pd.read_parquet(f'./data/df_liq_{i}.parquet') for i in range(1,22)]).reset_index().drop(columns='index')\n",
    "get_liq(df_liq,df_swap)\n",
    "df_swap.to_csv(f'./data/{token0}&{token1}_5bp_mainnet_swap_with_liq.csv')\n",
    "\n",
    "\n",
    "\n"
   ]
  },
  {
   "cell_type": "markdown",
   "id": "feb5a8c0",
   "metadata": {},
   "source": []
  }
 ],
 "metadata": {
  "kernelspec": {
   "display_name": "base",
   "language": "python",
   "name": "python3"
  },
  "language_info": {
   "codemirror_mode": {
    "name": "ipython",
    "version": 3
   },
   "file_extension": ".py",
   "mimetype": "text/x-python",
   "name": "python",
   "nbconvert_exporter": "python",
   "pygments_lexer": "ipython3",
   "version": "3.10.13"
  }
 },
 "nbformat": 4,
 "nbformat_minor": 5
}
