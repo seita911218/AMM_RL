{
 "cells": [
  {
   "cell_type": "code",
   "execution_count": null,
   "id": "cd41c16b",
   "metadata": {},
   "outputs": [],
   "source": [
    "import numpy as np\n",
    "import matplotlib.pyplot as plt\n",
    "import pandas as pd\n",
    "from utils.pnl import pnl\n",
    "import seaborn as sns\n",
    "from features_clustering import *"
   ]
  },
  {
   "cell_type": "code",
   "execution_count": null,
   "id": "98b62304",
   "metadata": {},
   "outputs": [],
   "source": [
    "token0 = 'WETH'\n",
    "token1 = 'USDC'\n",
    "decimal_0 = 18\n",
    "decimal_1 = 6\n",
    "fee_tier = 0.0005\n",
    "tickspacing = 10"
   ]
  },
  {
   "cell_type": "markdown",
   "id": "17dcf8c8",
   "metadata": {},
   "source": [
    "## Resample and generating features\n",
    "\n",
    "\n",
    "* hourly EWMA return for momentum $\\mu_t$.\n",
    "\n",
    "* hourly EWM return volatility $\\sigma_t$\n",
    "\n",
    "We set decay rate $\\alpha = 0.05$ for EWM calculation.\n",
    "\n",
    "* swap event : \n",
    "    1. hourly number of swaps $N^{(swap)}_t$\n",
    "\n",
    "    2. hourly mean arrival time of swap event $\\Delta_t$ \n",
    "\n",
    "    3. hourly total volume(buy + sell) normalized by liquidity $\\hat{V}_t$\n",
    "    \n",
    "    4. hourly buy/sell volume imbalance  $$\\mathcal{I}_t = \\frac{V_t^{buy}-V_t^{sell}}{V_t^{buy}+V_t^{sell}}$$ \n",
    "\n",
    "* mint/burnt event:\n",
    "    1. hourly number of mints+burns $N^{(mb)}_t$\n",
    "\n",
    "\n",
    "\n"
   ]
  },
  {
   "cell_type": "markdown",
   "id": "67f8d6e9",
   "metadata": {},
   "source": [
    "# Feature OS labeling 有問題 look ahead"
   ]
  },
  {
   "cell_type": "code",
   "execution_count": null,
   "id": "5a344bf7",
   "metadata": {},
   "outputs": [],
   "source": [
    "df_swap = pd.read_csv('swap_with_liq.csv').drop(columns='Unnamed: 0')\n",
    "df_swap['time'] = pd.to_datetime(df_swap['time'])\n",
    "\n",
    "df_mb = pd.read_csv('mb.csv').drop(columns='Unnamed: 0')\n",
    "df_mb['time'] = pd.to_datetime(df_mb['time'])\n",
    "\n",
    "df_features=features_resample(df_swap,df_mb)\n",
    "# df_features.to_csv('./data/hourly_features.csv')\n"
   ]
  },
  {
   "cell_type": "code",
   "execution_count": null,
   "id": "42b590e0",
   "metadata": {},
   "outputs": [],
   "source": [
    "\n",
    "L = int(2.6162685701074442e+17)\n",
    "gas = 5\n",
    "result = pnl(df_features.reset_index(),L , gas)\n",
    "result = result[result['time']>=df_features.index[0]]\n",
    "df_features['reward'] = result['reward'].values\n",
    "df_features['reward_next_hr'] = result['reward'].shift(-1).values\n",
    "\n"
   ]
  },
  {
   "cell_type": "markdown",
   "id": "69c088b1",
   "metadata": {},
   "source": [
    "## Features check"
   ]
  },
  {
   "cell_type": "code",
   "execution_count": null,
   "id": "47e018ca",
   "metadata": {},
   "outputs": [],
   "source": [
    "IS_end='2024-01-29 19:00'\n",
    "df_features_IS = df_features[df_features.index<=IS_end]\n",
    "df_features_IS = df_features_IS[['volume_imbalance', 'scaled_total_volume', 'n_swap','n_mb' ,'closed_price',\n",
    "       'interval_swap', 'liquidity', 'tick', 'R_ewma', 'volatility_ewm',\n",
    "       'ma24', 'ma168', 'bb_upper', 'bb_middle', 'bb_lower', 'adxr', 'dx',\n",
    "       'reward', 'reward_next_hr']]"
   ]
  },
  {
   "cell_type": "markdown",
   "id": "bd90465a",
   "metadata": {},
   "source": [
    "### In sampel correlation with reward\n",
    "\n",
    "we can choose features according theri relation w.r.t LP reward."
   ]
  },
  {
   "cell_type": "code",
   "execution_count": null,
   "id": "9e3ffd31",
   "metadata": {},
   "outputs": [],
   "source": [
    "# def last(x):\n",
    "#     if x.empty:\n",
    "#         return np.nan   \n",
    "#     return x.ffill().iloc[-1]\n",
    "# result_IS =result[ result['time']<='2024-01-29 18:00'].copy()\n",
    "# df = df_swap[df_swap['time']<='2024-01-29 19:00'].set_index('time').resample('1h').apply({'price':last})\n",
    "# df['R']  = np.log(df['price'].shift(1)/df['price'])\n",
    "# df['ewma_R_std'] = df['R'].ewm(alpha=0.05).std()\n",
    "# df['ma24'] = df['price'].rolling(24).mean()\n",
    "# df['ma168'] = df['price'].rolling(168).mean()\n",
    "# hourly_ewma_R,hourly_ewm_std = ewm_features(df,'1h',39)\n",
    "# df['R_ewma'] = hourly_ewma_R.values\n",
    "\n",
    "# df['ewma_price_std'] = hourly_ewm_std.values\n",
    "# df['reward']= result_IS['reward'].values\n",
    "# df['next_reward']= result_IS['reward'].shift(1).values\n",
    "# sns.heatmap( df.dropna().corr() ,cmap='coolwarm',cbar=True,annot=True,\n",
    "#                  linewidth=0.01,linecolor='k')"
   ]
  },
  {
   "cell_type": "markdown",
   "id": "0e8a688c",
   "metadata": {},
   "source": [
    "### In sample features correlation"
   ]
  },
  {
   "cell_type": "code",
   "execution_count": null,
   "id": "05398c5d",
   "metadata": {},
   "outputs": [],
   "source": [
    "plt.figure(figsize=(16,10))\n",
    "sns.heatmap( df_features_IS.corr()\n",
    "                    ,cmap='coolwarm',cbar=True,annot=True,\n",
    "                 linewidth=0.01,linecolor='k')\n",
    "plt.title('In sample correlation')\n"
   ]
  },
  {
   "cell_type": "markdown",
   "id": "c7e8e381",
   "metadata": {},
   "source": [
    "* n_swp and total volume has high correlation.\n",
    "\n",
    "* n_mb are correlated to n_swap.\n",
    "\n",
    "* interval and reward are negative correlated.\n",
    "\n",
    "* price is negative correlated with n_buy, which is weird.\n",
    "\n",
    "* price volatility is postive correlated to  absolute volume and price.\n",
    "\n",
    "* liquidity,volume imbalance seems to be irrelavent to others\n"
   ]
  },
  {
   "cell_type": "markdown",
   "id": "451d2cd3",
   "metadata": {},
   "source": [
    "## Clustering"
   ]
  },
  {
   "cell_type": "code",
   "execution_count": null,
   "id": "ac85f132",
   "metadata": {},
   "outputs": [],
   "source": [
    "features_list_all =['volume_imbalance','scaled_total_volume', 'n_swap',\n",
    "       'interval_swap', 'R_ewma', 'volatility_ewm',\n",
    "       'ma24', 'ma168', 'bb_upper', 'bb_middle', 'bb_lower', 'adxr', 'dx',\n",
    "       'n_mb']\n",
    "\n",
    "features_list_micro =['volume_imbalance', 'scaled_total_volume', 'n_swap',\n",
    "       'interval_swap', 'R_ewma', 'volatility_ewm',\n",
    "       'n_mb']"
   ]
  },
  {
   "cell_type": "code",
   "execution_count": null,
   "id": "4b7f6417",
   "metadata": {},
   "outputs": [],
   "source": [
    "km_all,df_all = clustering(df_features,features_list_all,3)\n"
   ]
  },
  {
   "cell_type": "code",
   "execution_count": null,
   "id": "71a38325",
   "metadata": {},
   "outputs": [],
   "source": [
    "df_all_IS = df_all[df_all.index<=IS_end].copy()\n",
    "plot_pca(df_all_IS,'all')\n",
    "    "
   ]
  },
  {
   "cell_type": "code",
   "execution_count": null,
   "id": "d5347824",
   "metadata": {},
   "outputs": [],
   "source": [
    "plot_cen_hm(df_all_IS,km_all,'all features')"
   ]
  },
  {
   "cell_type": "code",
   "execution_count": null,
   "id": "d02ab648",
   "metadata": {},
   "outputs": [],
   "source": [
    "km_micro,df_micro = clustering(df_features,features_list_micro,3)\n",
    "df_micro_IS = df_micro[df_micro.index<=IS_end].copy()\n",
    "plot_pca(df_micro,'micro only')\n"
   ]
  },
  {
   "cell_type": "code",
   "execution_count": null,
   "id": "adf5d203",
   "metadata": {},
   "outputs": [],
   "source": [
    "plot_cen_hm(df_micro_IS,km_micro,'micro only')"
   ]
  },
  {
   "cell_type": "code",
   "execution_count": null,
   "id": "a2ebc2e0",
   "metadata": {},
   "outputs": [],
   "source": [
    "keep_list =  ['scaled_volume_WETH','scaled_volume_USDC','closed_price','km_label']"
   ]
  },
  {
   "cell_type": "code",
   "execution_count": null,
   "id": "53adda8a",
   "metadata": {},
   "outputs": [],
   "source": [
    "df_all[features_list_all+keep_list].to_csv('./data/hourly_features_all.csv')"
   ]
  },
  {
   "cell_type": "code",
   "execution_count": null,
   "id": "c48d5666",
   "metadata": {},
   "outputs": [],
   "source": [
    "df_micro[features_list_micro+keep_list].to_csv('./data/hourly_features_micro.csv')"
   ]
  }
 ],
 "metadata": {
  "kernelspec": {
   "display_name": "elrl",
   "language": "python",
   "name": "python3"
  },
  "language_info": {
   "codemirror_mode": {
    "name": "ipython",
    "version": 3
   },
   "file_extension": ".py",
   "mimetype": "text/x-python",
   "name": "python",
   "nbconvert_exporter": "python",
   "pygments_lexer": "ipython3",
   "version": "3.10.15"
  }
 },
 "nbformat": 4,
 "nbformat_minor": 5
}
