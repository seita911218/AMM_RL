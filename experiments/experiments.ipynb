{
 "cells": [
  {
   "cell_type": "markdown",
   "id": "0deade59",
   "metadata": {},
   "source": [
    "# Import Packages"
   ]
  },
  {
   "cell_type": "code",
   "execution_count": null,
   "id": "94be56c1",
   "metadata": {},
   "outputs": [],
   "source": [
    "import pandas as pd\n",
    "import numpy as np\n",
    "import sys\n",
    "import os\n",
    "import torch\n",
    "\n",
    "# Add parent directory to path for imports\n",
    "parent_dir = os.path.dirname(os.path.dirname(os.path.abspath('__file__')))\n",
    "sys.path.append(parent_dir)\n",
    "\n",
    "# Import our custom environment from utils\n",
    "from utils.tune import tune_dqn_with_ray, tune_ppo_with_ray\n",
    "from utils.eval import best_dqn_rollout, best_ppo_rollout\n",
    "from utils.visualize import pnl_plot\n",
    "\n",
    "print(\"✅ All imports successful!\")\n",
    "print(f\"PyTorch version: {torch.__version__}\")\n",
    "print(f\"Device: {'CUDA' if torch.cuda.is_available() else 'CPU'}\")\n",
    "print(f\"Parent directory added: {parent_dir}\")"
   ]
  },
  {
   "cell_type": "markdown",
   "id": "49539c06",
   "metadata": {},
   "source": [
    "# Loading Data"
   ]
  },
  {
   "cell_type": "code",
   "execution_count": null,
   "id": "f40056d9",
   "metadata": {},
   "outputs": [],
   "source": [
    "# Load and prepare data\n",
    "data_path = \"../data/features.csv\"\n",
    "data = pd.read_csv(data_path)\n",
    "\n",
    "print(f\"Data shape: {data.shape}\")\n",
    "print(f\"Data columns: {data.columns.tolist()}\")\n",
    "print(\"\\nFirst few rows:\")\n",
    "print(data.head())\n",
    "\n",
    "ESSENTIAL_FEATURES = ['closed_price', 'scaled_volume_WETH', 'scaled_volume_USDC']\n",
    "MICROSTRUCTURE_FEATURES = ['volume_imbalance', 'scaled_total_volume', 'n_swap', 'interval_swap', 'liquidity', 'tick', 'R_ewma', 'volatility_ewm']\n",
    "TECHNICAL_FEATURES = ['ma24', 'ma168', 'bb_upper', 'bb_middle', 'bb_lower', 'adxr', 'dx', 'n_mb']\n",
    "REGIME_LABEL_BASED_ON_MICROSTURCTURE_FEATURES = [\"km_label_micro_0\", \"km_label_micro_1\", \"km_label_micro_2\"]\n",
    "REGIME_LABEL_BASED_ON_ALL_FEATURES = [\"km_label_all_0\", \"km_label_all_1\", \"km_label_all_2\"]\n",
    "\n",
    "print(f\"\\nEssentail Features: {ESSENTIAL_FEATURES}\")\n",
    "print(f\"Microstructure Features: {MICROSTRUCTURE_FEATURES}\")\n",
    "print(f\"Technical Features: {TECHNICAL_FEATURES}\")"
   ]
  },
  {
   "cell_type": "code",
   "execution_count": null,
   "id": "1b217018",
   "metadata": {},
   "outputs": [],
   "source": [
    "def one_hot_encode_label_columns(df: pd.DataFrame, label_column_names: list[str]) -> pd.DataFrame:\n",
    "    \"\"\"\n",
    "    One-hot encode each column in label_column_names and append the dummy columns.\n",
    "    - Keeps the original label columns.\n",
    "    - Output columns are named as <col>_<class>.\n",
    "    - Uses pandas.get_dummies (no sklearn dependency).\n",
    "    \"\"\"\n",
    "    \n",
    "    out = df.copy()\n",
    "    for col in label_column_names:\n",
    "        if col not in out.columns:\n",
    "            raise KeyError(f\"Column '{col}' not found in DataFrame.\")\n",
    "        # If you want a column for NaN as well, set dummy_na=True\n",
    "        dummies = pd.get_dummies(out[col], prefix=col, prefix_sep=\"_\", dtype=\"int8\", dummy_na=False)\n",
    "        out = pd.concat([out, dummies], axis=1)\n",
    "    return out\n",
    "\n",
    "# Example:\n",
    "data = one_hot_encode_label_columns(data, [\"km_label_micro\", \"km_label_all\"])\n",
    "\n",
    "data"
   ]
  },
  {
   "cell_type": "markdown",
   "id": "8f40143b",
   "metadata": {},
   "source": [
    "## 1. Essential Features"
   ]
  },
  {
   "cell_type": "code",
   "execution_count": null,
   "id": "20f1a1ac",
   "metadata": {},
   "outputs": [],
   "source": [
    "# Extract numeric features for the environment (excluding time column)\n",
    "numeric_data = data[ESSENTIAL_FEATURES].values\n",
    "time_data = data[[\"time\"]].values\n",
    "print(f\"\\nNumeric data shape: {numeric_data.shape}\")\n",
    "print(f\"Sample values: {numeric_data[0]}\")\n",
    "\n",
    "TRAIN_TEST_RATIO = 0.8\n",
    "TRAIN_TEST_SPLIT_POINT = int(numeric_data.shape[0] * 0.8)\n",
    "\n",
    "train_data = numeric_data[:TRAIN_TEST_SPLIT_POINT]\n",
    "train_time_data = time_data[:TRAIN_TEST_SPLIT_POINT]\n",
    "print(f\"\\nTest data shape: {train_data.shape}\")\n",
    "print(f\"Sample values: {numeric_data[0]}\")\n",
    "\n",
    "test_data = numeric_data[TRAIN_TEST_SPLIT_POINT:]\n",
    "test_time_data = time_data[TRAIN_TEST_SPLIT_POINT:]\n",
    "print(f\"\\nTrain data shape: {test_data.shape}\")\n",
    "print(f\"Sample values: {numeric_data[0]}\")"
   ]
  },
  {
   "cell_type": "markdown",
   "id": "8d701e38",
   "metadata": {},
   "source": [
    "## Train"
   ]
  },
  {
   "cell_type": "code",
   "execution_count": null,
   "id": "403eb35b",
   "metadata": {},
   "outputs": [],
   "source": [
    "TRAIN_ENV_KW = {\n",
    "    \"init_value\": 100_00.0,\n",
    "    \"liquidation_value\": 0.0,\n",
    "    \"gas_cost\": 5.0,\n",
    "    \"fee_tier\": 0.0005,\n",
    "    \"max_steps\": int(train_data.shape[0] - 1)*10000,\n",
    "    \"start_index\": 0,\n",
    "}\n",
    "\n",
    "\n",
    "num_samples=50\n",
    "storage_root=\"./ray_results\"\n"
   ]
  },
  {
   "cell_type": "code",
   "execution_count": null,
   "id": "8195150e",
   "metadata": {},
   "outputs": [],
   "source": [
    "experiment_name=\"dqn_univ3_search_1\"\n",
    "\n",
    "results, best = tune_dqn_with_ray(train_data, train_time_data, TRAIN_ENV_KW,\n",
    "                                  num_samples=num_samples,\n",
    "                                  experiment_name=experiment_name,\n",
    "                                  storage_root=storage_root)"
   ]
  },
  {
   "cell_type": "code",
   "execution_count": null,
   "id": "0e7323b7",
   "metadata": {},
   "outputs": [],
   "source": [
    "experiment_name=\"ppo_univ3_search_1\"\n",
    "\n",
    "results, best = tune_ppo_with_ray(train_data, train_time_data, TRAIN_ENV_KW,\n",
    "                                  num_samples=num_samples,\n",
    "                                  experiment_name=experiment_name,\n",
    "                                  storage_root=storage_root)"
   ]
  },
  {
   "cell_type": "markdown",
   "id": "5cf9065b",
   "metadata": {},
   "source": [
    "## Evaluate"
   ]
  },
  {
   "cell_type": "code",
   "execution_count": null,
   "id": "ae7b084f",
   "metadata": {},
   "outputs": [],
   "source": [
    "TRAIN_ENV_KW = {\n",
    "    \"init_value\": 10_000.0,\n",
    "    \"liquidation_value\": 0.0,\n",
    "    \"gas_cost\": 5.0,\n",
    "    \"fee_tier\": 0.0005,\n",
    "    \"max_steps\": int(train_data.shape[0] - 1),\n",
    "    \"start_index\": 0,\n",
    "}\n",
    "\n",
    "TEST_ENV_KW = {\n",
    "    \"init_value\": 10_000.0,\n",
    "    \"liquidation_value\": 0.0,\n",
    "    \"gas_cost\": 5.0,\n",
    "    \"fee_tier\": 0.0005,\n",
    "    \"max_steps\": int(test_data.shape[0] - 1),\n",
    "    \"start_index\": 0,\n",
    "}\n",
    "\n",
    "result_root=\"./result\"\n",
    "action_dim=5\n"
   ]
  },
  {
   "cell_type": "code",
   "execution_count": null,
   "id": "c57a83a1",
   "metadata": {},
   "outputs": [],
   "source": [
    "experiment_dir=\"./ray_results/dqn_univ3_search_1\"\n",
    "\n",
    "res1_dqn = best_dqn_rollout(\n",
    "    train_data, train_time_data,\n",
    "    test_data,  test_time_data,\n",
    "    TRAIN_ENV_KW, TEST_ENV_KW,\n",
    "    result_root=result_root,\n",
    "    experiment_dir=experiment_dir,   # or provide a specific path to your dqn_univ3_search\n",
    "    action_dim=action_dim,\n",
    ")\n",
    "\n",
    "train_result1_dqn = res1_dqn[\"train\"][\"dataframe\"]\n",
    "test_result1_dqn = res1_dqn[\"test\"][\"dataframe\"]\n",
    "all_result1_dqn = pd.concat([train_result1_dqn, test_result1_dqn])\n",
    "all_result1_dqn"
   ]
  },
  {
   "cell_type": "code",
   "execution_count": null,
   "id": "1bcc7c43",
   "metadata": {},
   "outputs": [],
   "source": [
    "experiment_dir=\"./ray_results/ppo_univ3_search_1\"\n",
    "\n",
    "res1_ppo = best_ppo_rollout(\n",
    "    train_data, train_time_data,\n",
    "    test_data,  test_time_data,\n",
    "    TRAIN_ENV_KW, TEST_ENV_KW,\n",
    "    result_root=result_root,\n",
    "    experiment_dir=experiment_dir, \n",
    "    action_dim=action_dim\n",
    ")\n",
    "\n",
    "train_result1_ppo = res1_ppo[\"train\"][\"dataframe\"]\n",
    "test_result1_ppo = res1_ppo[\"test\"][\"dataframe\"]\n",
    "all_result1_ppo = pd.concat([train_result1_ppo, test_result1_ppo])\n",
    "all_result1_ppo"
   ]
  },
  {
   "cell_type": "markdown",
   "id": "33eb608b",
   "metadata": {},
   "source": [
    "## Visualization"
   ]
  },
  {
   "cell_type": "code",
   "execution_count": null,
   "id": "fa99bde0",
   "metadata": {},
   "outputs": [],
   "source": [
    "t = all_result1_dqn[\"time\"]\n",
    "y = all_result1_dqn[\"step_reward\"].cumsum()\n",
    "a = all_result1_dqn[\"allocation_ratio\"]\n",
    "\n",
    "fig = pnl_plot(t, y, a,\n",
    "                top_title=\"Reward Trajectory (All)\",\n",
    "                bottom_title=\"Action\"\n",
    "                )\n",
    "fig.show()\n"
   ]
  },
  {
   "cell_type": "code",
   "execution_count": null,
   "id": "e4e23253",
   "metadata": {},
   "outputs": [],
   "source": [
    "t = all_result1_ppo[\"time\"]\n",
    "y = all_result1_ppo[\"step_reward\"].cumsum()\n",
    "a = all_result1_ppo[\"allocation_ratio\"]\n",
    "\n",
    "fig = pnl_plot(t, y, a,\n",
    "                top_title=\"Reward Trajectory (All)\",\n",
    "                bottom_title=\"Action\"\n",
    "                )\n",
    "fig.show()"
   ]
  },
  {
   "cell_type": "markdown",
   "id": "54bee31a",
   "metadata": {},
   "source": [
    "## 2. Essential Features and Microstructure Features"
   ]
  },
  {
   "cell_type": "code",
   "execution_count": null,
   "id": "5dd333e7",
   "metadata": {},
   "outputs": [],
   "source": [
    "# Extract numeric features for the environment (excluding time column)\n",
    "numeric_data = data[ESSENTIAL_FEATURES+MICROSTRUCTURE_FEATURES].values\n",
    "time_data = data[[\"time\"]].values\n",
    "print(f\"\\nNumeric data shape: {numeric_data.shape}\")\n",
    "print(f\"Sample values: {numeric_data[0]}\")\n",
    "\n",
    "TRAIN_TEST_RATIO = 0.8\n",
    "TRAIN_TEST_SPLIT_POINT = int(numeric_data.shape[0] * 0.8)\n",
    "\n",
    "train_data = numeric_data[:TRAIN_TEST_SPLIT_POINT]\n",
    "train_time_data = time_data[:TRAIN_TEST_SPLIT_POINT]\n",
    "print(f\"\\nTest data shape: {train_data.shape}\")\n",
    "print(f\"Sample values: {numeric_data[0]}\")\n",
    "\n",
    "test_data = numeric_data[TRAIN_TEST_SPLIT_POINT:]\n",
    "test_time_data = time_data[TRAIN_TEST_SPLIT_POINT:]\n",
    "print(f\"\\nTrain data shape: {test_data.shape}\")\n",
    "print(f\"Sample values: {numeric_data[0]}\")"
   ]
  },
  {
   "cell_type": "markdown",
   "id": "d26312dd",
   "metadata": {},
   "source": [
    "## Train"
   ]
  },
  {
   "cell_type": "code",
   "execution_count": null,
   "id": "9633a230",
   "metadata": {},
   "outputs": [],
   "source": [
    "TRAIN_ENV_KW = {\n",
    "    \"init_value\": 100_00.0,\n",
    "    \"liquidation_value\": 0.0,\n",
    "    \"gas_cost\": 5.0,\n",
    "    \"fee_tier\": 0.0005,\n",
    "    \"max_steps\": int(train_data.shape[0] - 1)*10000,\n",
    "    \"start_index\": 0,\n",
    "}\n",
    "\n",
    "\n",
    "num_samples=50\n",
    "storage_root=\"./ray_results\"\n"
   ]
  },
  {
   "cell_type": "code",
   "execution_count": null,
   "id": "e9600584",
   "metadata": {},
   "outputs": [],
   "source": [
    "experiment_name=\"dqn_univ3_search_2\"\n",
    "\n",
    "results, best = tune_dqn_with_ray(train_data, train_time_data, TRAIN_ENV_KW,\n",
    "                                  num_samples=num_samples,\n",
    "                                  experiment_name=experiment_name,\n",
    "                                  storage_root=storage_root)"
   ]
  },
  {
   "cell_type": "code",
   "execution_count": null,
   "id": "98d976f5",
   "metadata": {},
   "outputs": [],
   "source": [
    "experiment_name=\"ppo_univ3_search_2\"\n",
    "\n",
    "results, best = tune_ppo_with_ray(train_data, train_time_data, TRAIN_ENV_KW,\n",
    "                                  num_samples=num_samples,\n",
    "                                  experiment_name=experiment_name,\n",
    "                                  storage_root=storage_root)"
   ]
  },
  {
   "cell_type": "markdown",
   "id": "382160c9",
   "metadata": {},
   "source": [
    "## Evaluate"
   ]
  },
  {
   "cell_type": "code",
   "execution_count": null,
   "id": "78b47bcf",
   "metadata": {},
   "outputs": [],
   "source": [
    "TRAIN_ENV_KW = {\n",
    "    \"init_value\": 10_000.0,\n",
    "    \"liquidation_value\": 0.0,\n",
    "    \"gas_cost\": 5.0,\n",
    "    \"fee_tier\": 0.0005,\n",
    "    \"max_steps\": int(train_data.shape[0] - 1),\n",
    "    \"start_index\": 0,\n",
    "}\n",
    "\n",
    "TEST_ENV_KW = {\n",
    "    \"init_value\": 10_000.0,\n",
    "    \"liquidation_value\": 0.0,\n",
    "    \"gas_cost\": 5.0,\n",
    "    \"fee_tier\": 0.0005,\n",
    "    \"max_steps\": int(test_data.shape[0] - 1),\n",
    "    \"start_index\": 0,\n",
    "}\n",
    "\n",
    "result_root=\"./result\"\n",
    "action_dim=5\n"
   ]
  },
  {
   "cell_type": "code",
   "execution_count": null,
   "id": "6f140e7e",
   "metadata": {},
   "outputs": [],
   "source": [
    "experiment_dir=\"./ray_results/dqn_univ3_search_2\"\n",
    "\n",
    "res2_dqn = best_dqn_rollout(\n",
    "    train_data, train_time_data,\n",
    "    test_data,  test_time_data,\n",
    "    TRAIN_ENV_KW, TEST_ENV_KW,\n",
    "    result_root=result_root,\n",
    "    experiment_dir=experiment_dir,   # or provide a specific path to your dqn_univ3_search\n",
    "    action_dim=action_dim,\n",
    ")\n",
    "\n",
    "train_result2_dqn = res2_dqn[\"train\"][\"dataframe\"]\n",
    "test_result2_dqn = res2_dqn[\"test\"][\"dataframe\"]\n",
    "all_result2_dqn = pd.concat([train_result2_dqn, test_result2_dqn])\n",
    "all_result2_dqn"
   ]
  },
  {
   "cell_type": "code",
   "execution_count": null,
   "id": "65119fdb",
   "metadata": {},
   "outputs": [],
   "source": [
    "experiment_dir=\"./ray_results/ppo_univ3_search_2\"\n",
    "\n",
    "res2_ppo = best_ppo_rollout(\n",
    "    train_data, train_time_data,\n",
    "    test_data,  test_time_data,\n",
    "    TRAIN_ENV_KW, TEST_ENV_KW,\n",
    "    result_root=result_root,\n",
    "    experiment_dir=experiment_dir, \n",
    "    action_dim=action_dim\n",
    ")\n",
    "\n",
    "train_result2_ppo = res2_ppo[\"train\"][\"dataframe\"]\n",
    "test_result2_ppo = res2_ppo[\"test\"][\"dataframe\"]\n",
    "all_result2_ppo = pd.concat([train_result2_ppo, test_result2_ppo])\n",
    "all_result2_ppo"
   ]
  },
  {
   "cell_type": "markdown",
   "id": "dc1ec013",
   "metadata": {},
   "source": [
    "## Visualization"
   ]
  },
  {
   "cell_type": "code",
   "execution_count": null,
   "id": "65373f51",
   "metadata": {},
   "outputs": [],
   "source": [
    "t = all_result2_dqn[\"time\"]\n",
    "y = all_result2_dqn[\"step_reward\"].cumsum()\n",
    "a = all_result2_dqn[\"allocation_ratio\"]\n",
    "\n",
    "fig = pnl_plot(t, y, a,\n",
    "                top_title=\"Reward Trajectory (All)\",\n",
    "                bottom_title=\"Action\"\n",
    "                )\n",
    "fig.show()\n"
   ]
  },
  {
   "cell_type": "code",
   "execution_count": null,
   "id": "be03c0ff",
   "metadata": {},
   "outputs": [],
   "source": [
    "t = all_result2_ppo[\"time\"]\n",
    "y = all_result2_ppo[\"step_reward\"].cumsum()\n",
    "a = all_result2_ppo[\"allocation_ratio\"]\n",
    "\n",
    "fig = pnl_plot(t, y, a,\n",
    "                top_title=\"Reward Trajectory (All)\",\n",
    "                bottom_title=\"Action\"\n",
    "                )\n",
    "fig.show()"
   ]
  },
  {
   "cell_type": "markdown",
   "id": "db8ed4f7",
   "metadata": {},
   "source": [
    "## 3. Essential Features, Microstructure Features and Technical Features"
   ]
  },
  {
   "cell_type": "code",
   "execution_count": null,
   "id": "89b934a5",
   "metadata": {},
   "outputs": [],
   "source": [
    "# Extract numeric features for the environment (excluding time column)\n",
    "numeric_data = data[ESSENTIAL_FEATURES+MICROSTRUCTURE_FEATURES+TECHNICAL_FEATURES].values\n",
    "time_data = data[[\"time\"]].values\n",
    "print(f\"\\nNumeric data shape: {numeric_data.shape}\")\n",
    "print(f\"Sample values: {numeric_data[0]}\")\n",
    "\n",
    "TRAIN_TEST_RATIO = 0.8\n",
    "TRAIN_TEST_SPLIT_POINT = int(numeric_data.shape[0] * 0.8)\n",
    "\n",
    "train_data = numeric_data[:TRAIN_TEST_SPLIT_POINT]\n",
    "train_time_data = time_data[:TRAIN_TEST_SPLIT_POINT]\n",
    "print(f\"\\nTest data shape: {train_data.shape}\")\n",
    "print(f\"Sample values: {numeric_data[0]}\")\n",
    "\n",
    "test_data = numeric_data[TRAIN_TEST_SPLIT_POINT:]\n",
    "test_time_data = time_data[TRAIN_TEST_SPLIT_POINT:]\n",
    "print(f\"\\nTrain data shape: {test_data.shape}\")\n",
    "print(f\"Sample values: {numeric_data[0]}\")"
   ]
  },
  {
   "cell_type": "markdown",
   "id": "85c28149",
   "metadata": {},
   "source": [
    "## Train"
   ]
  },
  {
   "cell_type": "code",
   "execution_count": null,
   "id": "b70e3093",
   "metadata": {},
   "outputs": [],
   "source": [
    "TRAIN_ENV_KW = {\n",
    "    \"init_value\": 100_00.0,\n",
    "    \"liquidation_value\": 0.0,\n",
    "    \"gas_cost\": 5.0,\n",
    "    \"fee_tier\": 0.0005,\n",
    "    \"max_steps\": int(train_data.shape[0] - 1)*10000,\n",
    "    \"start_index\": 0,\n",
    "}\n",
    "\n",
    "\n",
    "num_samples=50\n",
    "storage_root=\"./ray_results\"\n"
   ]
  },
  {
   "cell_type": "code",
   "execution_count": null,
   "id": "4bd5c59e",
   "metadata": {},
   "outputs": [],
   "source": [
    "experiment_name=\"dqn_univ3_search_3\"\n",
    "\n",
    "results, best = tune_dqn_with_ray(train_data, train_time_data, TRAIN_ENV_KW,\n",
    "                                  num_samples=num_samples,\n",
    "                                  experiment_name=experiment_name,\n",
    "                                  storage_root=storage_root)"
   ]
  },
  {
   "cell_type": "code",
   "execution_count": null,
   "id": "828c49e7",
   "metadata": {},
   "outputs": [],
   "source": [
    "experiment_name=\"ppo_univ3_search_3\"\n",
    "\n",
    "results, best = tune_ppo_with_ray(train_data, train_time_data, TRAIN_ENV_KW,\n",
    "                                  num_samples=num_samples,\n",
    "                                  experiment_name=experiment_name,\n",
    "                                  storage_root=storage_root)"
   ]
  },
  {
   "cell_type": "markdown",
   "id": "0e07d98e",
   "metadata": {},
   "source": [
    "## Evaluate"
   ]
  },
  {
   "cell_type": "code",
   "execution_count": null,
   "id": "ae58d9cd",
   "metadata": {},
   "outputs": [],
   "source": [
    "TRAIN_ENV_KW = {\n",
    "    \"init_value\": 10_000.0,\n",
    "    \"liquidation_value\": 0.0,\n",
    "    \"gas_cost\": 5.0,\n",
    "    \"fee_tier\": 0.0005,\n",
    "    \"max_steps\": int(train_data.shape[0] - 1),\n",
    "    \"start_index\": 0,\n",
    "}\n",
    "\n",
    "TEST_ENV_KW = {\n",
    "    \"init_value\": 10_000.0,\n",
    "    \"liquidation_value\": 0.0,\n",
    "    \"gas_cost\": 5.0,\n",
    "    \"fee_tier\": 0.0005,\n",
    "    \"max_steps\": int(test_data.shape[0] - 1),\n",
    "    \"start_index\": 0,\n",
    "}\n",
    "\n",
    "result_root=\"./result\"\n",
    "action_dim=5\n"
   ]
  },
  {
   "cell_type": "code",
   "execution_count": null,
   "id": "e34b6791",
   "metadata": {},
   "outputs": [],
   "source": [
    "experiment_dir=\"./ray_results/dqn_univ3_search_3\"\n",
    "\n",
    "res3_dqn = best_dqn_rollout(\n",
    "    train_data, train_time_data,\n",
    "    test_data,  test_time_data,\n",
    "    TRAIN_ENV_KW, TEST_ENV_KW,\n",
    "    result_root=result_root,\n",
    "    experiment_dir=experiment_dir,   # or provide a specific path to your dqn_univ3_search\n",
    "    action_dim=action_dim,\n",
    ")\n",
    "\n",
    "train_result3_dqn = res3_dqn[\"train\"][\"dataframe\"]\n",
    "test_result3_dqn = res3_dqn[\"test\"][\"dataframe\"]\n",
    "all_result3_dqn = pd.concat([train_result3_dqn, test_result3_dqn])\n",
    "all_result3_dqn"
   ]
  },
  {
   "cell_type": "code",
   "execution_count": null,
   "id": "c35344fc",
   "metadata": {},
   "outputs": [],
   "source": [
    "experiment_dir=\"./ray_results/ppo_univ3_search_3\"\n",
    "\n",
    "res3_ppo = best_ppo_rollout(\n",
    "    train_data, train_time_data,\n",
    "    test_data,  test_time_data,\n",
    "    TRAIN_ENV_KW, TEST_ENV_KW,\n",
    "    result_root=result_root,\n",
    "    experiment_dir=experiment_dir, \n",
    "    action_dim=action_dim\n",
    ")\n",
    "\n",
    "train_result3_ppo = res3_ppo[\"train\"][\"dataframe\"]\n",
    "test_result3_ppo = res3_ppo[\"test\"][\"dataframe\"]\n",
    "all_result3_ppo = pd.concat([train_result3_ppo, test_result3_ppo])\n",
    "all_result3_ppo"
   ]
  },
  {
   "cell_type": "markdown",
   "id": "c984ae6c",
   "metadata": {},
   "source": [
    "## Visualization"
   ]
  },
  {
   "cell_type": "code",
   "execution_count": null,
   "id": "882fdd26",
   "metadata": {},
   "outputs": [],
   "source": [
    "t = all_result3_dqn[\"time\"]\n",
    "y = all_result3_dqn[\"step_reward\"].cumsum()\n",
    "a = all_result3_dqn[\"allocation_ratio\"]\n",
    "\n",
    "fig = pnl_plot(t, y, a,\n",
    "                top_title=\"Reward Trajectory (All)\",\n",
    "                bottom_title=\"Action\"\n",
    "                )\n",
    "fig.show()\n"
   ]
  },
  {
   "cell_type": "code",
   "execution_count": null,
   "id": "cb2faee0",
   "metadata": {},
   "outputs": [],
   "source": [
    "t = all_result3_ppo[\"time\"]\n",
    "y = all_result3_ppo[\"step_reward\"].cumsum()\n",
    "a = all_result3_ppo[\"allocation_ratio\"]\n",
    "\n",
    "fig = pnl_plot(t, y, a,\n",
    "                top_title=\"Reward Trajectory (All)\",\n",
    "                bottom_title=\"Action\"\n",
    "                )\n",
    "fig.show()"
   ]
  },
  {
   "cell_type": "markdown",
   "id": "3ace3064",
   "metadata": {},
   "source": [
    "## 4. Essential Features and Regime Label Based on Microstructure Features"
   ]
  },
  {
   "cell_type": "code",
   "execution_count": null,
   "id": "044f6052",
   "metadata": {},
   "outputs": [],
   "source": [
    "# Extract numeric features for the environment (excluding time column)\n",
    "numeric_data = data[ESSENTIAL_FEATURES+REGIME_LABEL_BASED_ON_MICROSTURCTURE_FEATURES].values\n",
    "time_data = data[[\"time\"]].values\n",
    "print(f\"\\nNumeric data shape: {numeric_data.shape}\")\n",
    "print(f\"Sample values: {numeric_data[0]}\")\n",
    "\n",
    "TRAIN_TEST_RATIO = 0.8\n",
    "TRAIN_TEST_SPLIT_POINT = int(numeric_data.shape[0] * 0.8)\n",
    "\n",
    "train_data = numeric_data[:TRAIN_TEST_SPLIT_POINT]\n",
    "train_time_data = time_data[:TRAIN_TEST_SPLIT_POINT]\n",
    "print(f\"\\nTest data shape: {train_data.shape}\")\n",
    "print(f\"Sample values: {numeric_data[0]}\")\n",
    "\n",
    "test_data = numeric_data[TRAIN_TEST_SPLIT_POINT:]\n",
    "test_time_data = time_data[TRAIN_TEST_SPLIT_POINT:]\n",
    "print(f\"\\nTrain data shape: {test_data.shape}\")\n",
    "print(f\"Sample values: {numeric_data[0]}\")"
   ]
  },
  {
   "cell_type": "markdown",
   "id": "865baf5a",
   "metadata": {},
   "source": [
    "## Train"
   ]
  },
  {
   "cell_type": "code",
   "execution_count": null,
   "id": "a2003036",
   "metadata": {},
   "outputs": [],
   "source": [
    "TRAIN_ENV_KW = {\n",
    "    \"init_value\": 100_00.0,\n",
    "    \"liquidation_value\": 0.0,\n",
    "    \"gas_cost\": 5.0,\n",
    "    \"fee_tier\": 0.0005,\n",
    "    \"max_steps\": int(train_data.shape[0] - 1)*10000,\n",
    "    \"start_index\": 0,\n",
    "}\n",
    "\n",
    "num_samples=50\n",
    "storage_root=\"./ray_results\"\n"
   ]
  },
  {
   "cell_type": "code",
   "execution_count": null,
   "id": "07b5f8bc",
   "metadata": {},
   "outputs": [],
   "source": [
    "experiment_name=\"dqn_univ3_search_4\"\n",
    "\n",
    "results, best = tune_dqn_with_ray(train_data, train_time_data, TRAIN_ENV_KW,\n",
    "                                  num_samples=num_samples,\n",
    "                                  experiment_name=experiment_name,\n",
    "                                  storage_root=storage_root)"
   ]
  },
  {
   "cell_type": "code",
   "execution_count": null,
   "id": "c841ce36",
   "metadata": {},
   "outputs": [],
   "source": [
    "experiment_name=\"ppo_univ3_search_4\"\n",
    "\n",
    "results, best = tune_ppo_with_ray(train_data, train_time_data, TRAIN_ENV_KW,\n",
    "                                  num_samples=num_samples,\n",
    "                                  experiment_name=experiment_name,\n",
    "                                  storage_root=storage_root)"
   ]
  },
  {
   "cell_type": "markdown",
   "id": "f338abb5",
   "metadata": {},
   "source": [
    "## Evaluate"
   ]
  },
  {
   "cell_type": "code",
   "execution_count": null,
   "id": "652a82b8",
   "metadata": {},
   "outputs": [],
   "source": [
    "TRAIN_ENV_KW = {\n",
    "    \"init_value\": 10_000.0,\n",
    "    \"liquidation_value\": 0.0,\n",
    "    \"gas_cost\": 5.0,\n",
    "    \"fee_tier\": 0.0005,\n",
    "    \"max_steps\": int(train_data.shape[0] - 1),\n",
    "    \"start_index\": 0,\n",
    "}\n",
    "\n",
    "TEST_ENV_KW = {\n",
    "    \"init_value\": 10_000.0,\n",
    "    \"liquidation_value\": 0.0,\n",
    "    \"gas_cost\": 5.0,\n",
    "    \"fee_tier\": 0.0005,\n",
    "    \"max_steps\": int(test_data.shape[0] - 1),\n",
    "    \"start_index\": 0,\n",
    "}\n",
    "\n",
    "result_root=\"./result\"\n",
    "action_dim=5\n"
   ]
  },
  {
   "cell_type": "code",
   "execution_count": null,
   "id": "1ecb55bb",
   "metadata": {},
   "outputs": [],
   "source": [
    "experiment_dir=\"./ray_results/dqn_univ3_search_4\"\n",
    "\n",
    "res4_dqn = best_dqn_rollout(\n",
    "    train_data, train_time_data,\n",
    "    test_data,  test_time_data,\n",
    "    TRAIN_ENV_KW, TEST_ENV_KW,\n",
    "    result_root=result_root,\n",
    "    experiment_dir=experiment_dir,   # or provide a specific path to your dqn_univ3_search\n",
    "    action_dim=action_dim,\n",
    ")\n",
    "\n",
    "train_result4_dqn = res4_dqn[\"train\"][\"dataframe\"]\n",
    "test_result4_dqn = res4_dqn[\"test\"][\"dataframe\"]\n",
    "all_result4_dqn = pd.concat([train_result4_dqn, test_result4_dqn])\n",
    "all_result4_dqn"
   ]
  },
  {
   "cell_type": "code",
   "execution_count": null,
   "id": "9baa46f3",
   "metadata": {},
   "outputs": [],
   "source": [
    "experiment_dir=\"./ray_results/ppo_univ3_search_4\"\n",
    "\n",
    "res4_ppo = best_ppo_rollout(\n",
    "    train_data, train_time_data,\n",
    "    test_data,  test_time_data,\n",
    "    TRAIN_ENV_KW, TEST_ENV_KW,\n",
    "    result_root=result_root,\n",
    "    experiment_dir=experiment_dir, \n",
    "    action_dim=action_dim\n",
    ")\n",
    "\n",
    "train_result4_ppo = res4_ppo[\"train\"][\"dataframe\"]\n",
    "test_result4_ppo = res4_ppo[\"test\"][\"dataframe\"]\n",
    "all_result4_ppo = pd.concat([train_result4_ppo, test_result4_ppo])\n",
    "all_result4_ppo"
   ]
  },
  {
   "cell_type": "markdown",
   "id": "a20e876e",
   "metadata": {},
   "source": [
    "## Visualization"
   ]
  },
  {
   "cell_type": "code",
   "execution_count": null,
   "id": "a03237b4",
   "metadata": {},
   "outputs": [],
   "source": [
    "t = all_result4_dqn[\"time\"]\n",
    "y = all_result4_dqn[\"step_reward\"].cumsum()\n",
    "a = all_result4_dqn[\"allocation_ratio\"]\n",
    "\n",
    "fig = pnl_plot(t, y, a,\n",
    "                top_title=\"Reward Trajectory (All)\",\n",
    "                bottom_title=\"Action\"\n",
    "                )\n",
    "fig.show()\n"
   ]
  },
  {
   "cell_type": "code",
   "execution_count": null,
   "id": "9dd4ab28",
   "metadata": {},
   "outputs": [],
   "source": [
    "t = all_result4_ppo[\"time\"]\n",
    "y = all_result4_ppo[\"step_reward\"].cumsum()\n",
    "a = all_result4_ppo[\"allocation_ratio\"]\n",
    "\n",
    "fig = pnl_plot(t, y, a,\n",
    "                top_title=\"Reward Trajectory (All)\",\n",
    "                bottom_title=\"Action\"\n",
    "                )\n",
    "fig.show()"
   ]
  },
  {
   "cell_type": "markdown",
   "id": "6da0849c",
   "metadata": {},
   "source": [
    "## 5. Essential Features and Regime Label Based on All Features"
   ]
  },
  {
   "cell_type": "code",
   "execution_count": null,
   "id": "5b2657db",
   "metadata": {},
   "outputs": [],
   "source": [
    "# Extract numeric features for the environment (excluding time column)\n",
    "numeric_data = data[ESSENTIAL_FEATURES+REGIME_LABEL_BASED_ON_ALL_FEATURES].values\n",
    "time_data = data[[\"time\"]].values\n",
    "print(f\"\\nNumeric data shape: {numeric_data.shape}\")\n",
    "print(f\"Sample values: {numeric_data[0]}\")\n",
    "\n",
    "TRAIN_TEST_RATIO = 0.8\n",
    "TRAIN_TEST_SPLIT_POINT = int(numeric_data.shape[0] * 0.8)\n",
    "\n",
    "train_data = numeric_data[:TRAIN_TEST_SPLIT_POINT]\n",
    "train_time_data = time_data[:TRAIN_TEST_SPLIT_POINT]\n",
    "print(f\"\\nTest data shape: {train_data.shape}\")\n",
    "print(f\"Sample values: {numeric_data[0]}\")\n",
    "\n",
    "test_data = numeric_data[TRAIN_TEST_SPLIT_POINT:]\n",
    "test_time_data = time_data[TRAIN_TEST_SPLIT_POINT:]\n",
    "print(f\"\\nTrain data shape: {test_data.shape}\")\n",
    "print(f\"Sample values: {numeric_data[0]}\")"
   ]
  },
  {
   "cell_type": "markdown",
   "id": "55b94e16",
   "metadata": {},
   "source": [
    "## Train"
   ]
  },
  {
   "cell_type": "code",
   "execution_count": null,
   "id": "5edff5af",
   "metadata": {},
   "outputs": [],
   "source": [
    "TRAIN_ENV_KW = {\n",
    "    \"init_value\": 100_00.0,\n",
    "    \"liquidation_value\": 0.0,\n",
    "    \"gas_cost\": 5.0,\n",
    "    \"fee_tier\": 0.0005,\n",
    "    \"max_steps\": int(train_data.shape[0] - 1)*10000,\n",
    "    \"start_index\": 0,\n",
    "}\n",
    "\n",
    "num_samples=50\n",
    "storage_root=\"./ray_results\"\n"
   ]
  },
  {
   "cell_type": "code",
   "execution_count": null,
   "id": "175710f9",
   "metadata": {},
   "outputs": [],
   "source": [
    "experiment_name=\"dqn_univ3_search_5\"\n",
    "\n",
    "results, best = tune_dqn_with_ray(train_data, train_time_data, TRAIN_ENV_KW,\n",
    "                                  num_samples=num_samples,\n",
    "                                  experiment_name=experiment_name,\n",
    "                                  storage_root=storage_root)"
   ]
  },
  {
   "cell_type": "code",
   "execution_count": null,
   "id": "5bd23bb7",
   "metadata": {},
   "outputs": [],
   "source": [
    "experiment_name=\"ppo_univ3_search_5\"\n",
    "\n",
    "results, best = tune_ppo_with_ray(train_data, train_time_data, TRAIN_ENV_KW,\n",
    "                                  num_samples=num_samples,\n",
    "                                  experiment_name=experiment_name,\n",
    "                                  storage_root=storage_root)"
   ]
  },
  {
   "cell_type": "markdown",
   "id": "01583edb",
   "metadata": {},
   "source": [
    "## Evaluate"
   ]
  },
  {
   "cell_type": "code",
   "execution_count": null,
   "id": "3caed3c6",
   "metadata": {},
   "outputs": [],
   "source": [
    "TRAIN_ENV_KW = {\n",
    "    \"init_value\": 10_000.0,\n",
    "    \"liquidation_value\": 0.0,\n",
    "    \"gas_cost\": 5.0,\n",
    "    \"fee_tier\": 0.0005,\n",
    "    \"max_steps\": int(train_data.shape[0] - 1),\n",
    "    \"start_index\": 0,\n",
    "}\n",
    "\n",
    "TEST_ENV_KW = {\n",
    "    \"init_value\": 10_000.0,\n",
    "    \"liquidation_value\": 0.0,\n",
    "    \"gas_cost\": 5.0,\n",
    "    \"fee_tier\": 0.0005,\n",
    "    \"max_steps\": int(test_data.shape[0] - 1),\n",
    "    \"start_index\": 0,\n",
    "}\n",
    "\n",
    "result_root=\"./result\"\n",
    "action_dim=5\n"
   ]
  },
  {
   "cell_type": "code",
   "execution_count": null,
   "id": "f9beccb2",
   "metadata": {},
   "outputs": [],
   "source": [
    "experiment_dir=\"./ray_results/dqn_univ3_search_5\"\n",
    "\n",
    "res5_dqn = best_dqn_rollout(\n",
    "    train_data, train_time_data,\n",
    "    test_data,  test_time_data,\n",
    "    TRAIN_ENV_KW, TEST_ENV_KW,\n",
    "    result_root=result_root,\n",
    "    experiment_dir=experiment_dir,   # or provide a specific path to your dqn_univ3_search\n",
    "    action_dim=action_dim,\n",
    ")\n",
    "\n",
    "train_result5_dqn = res5_dqn[\"train\"][\"dataframe\"]\n",
    "test_result5_dqn = res5_dqn[\"test\"][\"dataframe\"]\n",
    "all_result5_dqn = pd.concat([train_result5_dqn, test_result5_dqn])\n",
    "all_result5_dqn"
   ]
  },
  {
   "cell_type": "code",
   "execution_count": null,
   "id": "b4eb4097",
   "metadata": {},
   "outputs": [],
   "source": [
    "experiment_dir=\"./ray_results/ppo_univ3_search_5\"\n",
    "\n",
    "res5_ppo = best_ppo_rollout(\n",
    "    train_data, train_time_data,\n",
    "    test_data,  test_time_data,\n",
    "    TRAIN_ENV_KW, TEST_ENV_KW,\n",
    "    result_root=result_root,\n",
    "    experiment_dir=experiment_dir, \n",
    "    action_dim=action_dim\n",
    ")\n",
    "\n",
    "train_result5_ppo = res5_ppo[\"train\"][\"dataframe\"]\n",
    "test_result5_ppo = res5_ppo[\"test\"][\"dataframe\"]\n",
    "all_result5_ppo = pd.concat([train_result5_ppo, test_result5_ppo])\n",
    "all_result5_ppo"
   ]
  },
  {
   "cell_type": "markdown",
   "id": "5ca9e23d",
   "metadata": {},
   "source": [
    "## Visualization"
   ]
  },
  {
   "cell_type": "code",
   "execution_count": null,
   "id": "b5a1975f",
   "metadata": {},
   "outputs": [],
   "source": [
    "t = all_result5_dqn[\"time\"]\n",
    "y = all_result5_dqn[\"step_reward\"].cumsum()\n",
    "a = all_result5_dqn[\"allocation_ratio\"]\n",
    "\n",
    "fig = pnl_plot(t, y, a,\n",
    "                top_title=\"Reward Trajectory (All)\",\n",
    "                bottom_title=\"Action\"\n",
    "                )\n",
    "fig.show()\n"
   ]
  },
  {
   "cell_type": "code",
   "execution_count": null,
   "id": "22c0e472",
   "metadata": {},
   "outputs": [],
   "source": [
    "t = all_result5_ppo[\"time\"]\n",
    "y = all_result5_ppo[\"step_reward\"].cumsum()\n",
    "a = all_result5_ppo[\"allocation_ratio\"]\n",
    "\n",
    "fig = pnl_plot(t, y, a,\n",
    "                top_title=\"Reward Trajectory (All)\",\n",
    "                bottom_title=\"Action\"\n",
    "                )\n",
    "fig.show()"
   ]
  }
 ],
 "metadata": {
  "kernelspec": {
   "display_name": "elrl",
   "language": "python",
   "name": "python3"
  },
  "language_info": {
   "codemirror_mode": {
    "name": "ipython",
    "version": 3
   },
   "file_extension": ".py",
   "mimetype": "text/x-python",
   "name": "python",
   "nbconvert_exporter": "python",
   "pygments_lexer": "ipython3",
   "version": "3.10.15"
  }
 },
 "nbformat": 4,
 "nbformat_minor": 5
}
