{
 "cells": [
  {
   "cell_type": "markdown",
   "id": "0deade59",
   "metadata": {},
   "source": [
    "# Import Packages"
   ]
  },
  {
   "cell_type": "code",
   "execution_count": null,
   "id": "94be56c1",
   "metadata": {},
   "outputs": [],
   "source": [
    "import pandas as pd\n",
    "import numpy as np\n",
    "import sys\n",
    "import os\n",
    "from ray import tune\n",
    "import torch\n",
    "\n",
    "# Add parent directory to path for imports\n",
    "parent_dir = os.path.dirname(os.path.dirname(os.path.abspath('__file__')))\n",
    "sys.path.append(parent_dir)\n",
    "\n",
    "# Import our custom environment from utils\n",
    "from utils.tune import tune_dqn_with_ray, tune_ppo_with_ray\n",
    "from utils.eval import best_dqn_rollout, best_ppo_rollout\n",
    "from utils.visualize import pnl_plot\n",
    "\n",
    "print(\"✅ All imports successful!\")\n",
    "print(f\"PyTorch version: {torch.__version__}\")\n",
    "print(f\"Device: {'CUDA' if torch.cuda.is_available() else 'CPU'}\")\n",
    "print(f\"Parent directory added: {parent_dir}\")"
   ]
  },
  {
   "cell_type": "markdown",
   "id": "49539c06",
   "metadata": {},
   "source": [
    "# Loading Data"
   ]
  },
  {
   "cell_type": "code",
   "execution_count": null,
   "id": "f40056d9",
   "metadata": {},
   "outputs": [],
   "source": [
    "# Load and prepare data\n",
    "data_path = \"../data/features.csv\"\n",
    "data = pd.read_csv(data_path)\n",
    "\n",
    "print(f\"Data shape: {data.shape}\")\n",
    "print(f\"Data columns: {data.columns.tolist()}\")\n",
    "print(\"\\nFirst few rows:\")\n",
    "print(data.head())\n",
    "\n",
    "ESSENTIAL_FEATURES = ['closed_price', 'scaled_volume_WETH', 'scaled_volume_USDC']\n",
    "MICROSTRUCTURE_FEATURES = ['volume_imbalance', 'scaled_total_volume', 'n_swap', 'interval_swap', 'liquidity', 'tick', 'R_ewma', 'volatility_ewm']\n",
    "TECHNICAL_FEATURES = ['ma24', 'ma168', 'bb_upper', 'bb_middle', 'bb_lower', 'adxr', 'dx', 'n_mb']\n",
    "REGIME_LABEL_BASED_ON_MICROSTURCTURE_FEATURES = [\"km_label_micro_0\", \"km_label_micro_1\", \"km_label_micro_2\"]\n",
    "REGIME_LABEL_BASED_ON_ALL_FEATURES = [\"km_label_all_0\", \"km_label_all_1\", \"km_label_all_2\"]\n",
    "\n",
    "print(f\"\\nEssentail Features: {ESSENTIAL_FEATURES}\")\n",
    "print(f\"Microstructure Features: {MICROSTRUCTURE_FEATURES}\")\n",
    "print(f\"Technical Features: {TECHNICAL_FEATURES}\")"
   ]
  },
  {
   "cell_type": "code",
   "execution_count": null,
   "id": "1b217018",
   "metadata": {},
   "outputs": [],
   "source": [
    "def one_hot_encode_label_columns(df: pd.DataFrame, label_column_names: list[str]) -> pd.DataFrame:\n",
    "    \"\"\"\n",
    "    One-hot encode each column in label_column_names and append the dummy columns.\n",
    "    - Keeps the original label columns.\n",
    "    - Output columns are named as <col>_<class>.\n",
    "    - Uses pandas.get_dummies (no sklearn dependency).\n",
    "    \"\"\"\n",
    "    \n",
    "    out = df.copy()\n",
    "    for col in label_column_names:\n",
    "        if col not in out.columns:\n",
    "            raise KeyError(f\"Column '{col}' not found in DataFrame.\")\n",
    "        # If you want a column for NaN as well, set dummy_na=True\n",
    "        dummies = pd.get_dummies(out[col], prefix=col, prefix_sep=\"_\", dtype=\"int8\", dummy_na=False)\n",
    "        out = pd.concat([out, dummies], axis=1)\n",
    "    return out\n",
    "\n",
    "# Example:\n",
    "data = one_hot_encode_label_columns(data, [\"km_label_micro\", \"km_label_all\"])\n",
    "\n",
    "data"
   ]
  },
  {
   "cell_type": "markdown",
   "id": "8f40143b",
   "metadata": {},
   "source": [
    "## 1. Essential Features"
   ]
  },
  {
   "cell_type": "code",
   "execution_count": null,
   "id": "20f1a1ac",
   "metadata": {},
   "outputs": [],
   "source": [
    "# Extract numeric features for the environment (excluding time column)\n",
    "numeric_data = data[ESSENTIAL_FEATURES].values\n",
    "time_data = data[[\"time\"]].values\n",
    "print(f\"\\nNumeric data shape: {numeric_data.shape}\")\n",
    "print(f\"Sample values: {numeric_data[0]}\")\n",
    "\n",
    "TRAIN_TEST_RATIO = 0.8\n",
    "TRAIN_TEST_SPLIT_POINT = int(numeric_data.shape[0] * 0.8)\n",
    "\n",
    "train_data = numeric_data[:TRAIN_TEST_SPLIT_POINT]\n",
    "train_time_data = time_data[:TRAIN_TEST_SPLIT_POINT]\n",
    "print(f\"\\nTest data shape: {train_data.shape}\")\n",
    "print(f\"Sample values: {numeric_data[0]}\")\n",
    "\n",
    "test_data = numeric_data[TRAIN_TEST_SPLIT_POINT:]\n",
    "test_time_data = time_data[TRAIN_TEST_SPLIT_POINT:]\n",
    "print(f\"\\nTrain data shape: {test_data.shape}\")\n",
    "print(f\"Sample values: {numeric_data[0]}\")"
   ]
  },
  {
   "cell_type": "markdown",
   "id": "8d701e38",
   "metadata": {},
   "source": [
    "## Train"
   ]
  },
  {
   "cell_type": "code",
   "execution_count": null,
   "id": "403eb35b",
   "metadata": {},
   "outputs": [],
   "source": [
    "TRAIN_ENV_KW = {\n",
    "    \"init_value\": 100_00.0,\n",
    "    \"liquidation_value\": 0.0,\n",
    "    \"gas_cost\": 5.0,\n",
    "    \"fee_tier\": 0.0005,\n",
    "    \"max_steps\": int(train_data.shape[0]),\n",
    "    \"start_index\": 0,\n",
    "}\n",
    "\n",
    "num_samples=10\n",
    "\n",
    "param_space_dqn = {\n",
    "    \"net_dims\":   tune.choice([(64,64), (128,128), (256,256)]),\n",
    "    \"lr\":         tune.loguniform(1e-5, 5e-4),\n",
    "    \"batch_size\": tune.choice([64, 128, 256]),\n",
    "    \"gamma\":      tune.uniform(0.96, 0.995),\n",
    "    \"tau\":        tune.loguniform(1e-4, 1e-2),\n",
    "    \"horizon_len\": tune.choice([128, 256, 512, 1024]),\n",
    "    \"eps\":        tune.uniform(0.30, 0.80),\n",
    "    \"buffer\":     tune.qlograndint(int(2e5), int(1e6), int(1e4)),\n",
    "    \"repeat\":     tune.qrandint(1, 2, 1),\n",
    "    \"use_per\":    tune.choice([False, True]),\n",
    "    \"passes\":       tune.choice([16,32,64]),\n",
    "    \"episode_len\": tune.choice([int(train_data.shape[0])]),\n",
    "    \"seed\":       tune.randint(0, 1_000_000),\n",
    "}\n",
    "\n",
    "param_space_ppo = {\n",
    "    \"net_dims\":     tune.choice([(64, 64), (128, 128), (256, 128)]),\n",
    "    \"lr\":           tune.loguniform(1e-5, 3e-4),\n",
    "    \"batch_size\":   tune.choice([1024, 2048, 4096]),\n",
    "    \"gamma\":        tune.uniform(0.96, 0.999),\n",
    "    \"episode_len\":  tune.choice([int(train_data.shape[0])]),\n",
    "    \"horizon_len\":  tune.sample_from(lambda spec: spec.config[\"episode_len\"]),\n",
    "    \"repeat\":       tune.qrandint(2, 6, 1),\n",
    "    \"gae_lambda\":   tune.uniform(0.90, 0.98),\n",
    "    \"clip_ratio\":   tune.uniform(0.15, 0.35),\n",
    "    \"entropy_coef\": tune.loguniform(1e-3, 5e-2),\n",
    "    \"vf_coef\":      tune.uniform(0.3, 0.7),\n",
    "    \"passes\":       tune.choice([16,32,64]),\n",
    "    \"seed\":         tune.randint(0, 1_000_000),\n",
    "}\n",
    "\n",
    "storage_root=\"./ray_results\""
   ]
  },
  {
   "cell_type": "code",
   "execution_count": 6,
   "id": "8195150e",
   "metadata": {},
   "outputs": [
    {
     "name": "stderr",
     "output_type": "stream",
     "text": [
      "2025-09-19 01:12:12,065\tINFO tune.py:1041 -- Total run time: 3378.56 seconds (3377.13 seconds for the tuning loop).\n",
      "2025-09-19 01:12:12,066\tWARNING tune.py:1056 -- Experiment has been interrupted, but the most recent state was saved.\n",
      "Resume experiment with: Tuner.restore(path=\"/Users/seitahuang/Desktop/AMM_RL/experiments/ray_results/dqn_univ3_search_1\", trainable=...)\n"
     ]
    },
    {
     "name": "stdout",
     "output_type": "stream",
     "text": [
      "Best final_equity: 10000.0\n",
      "Best config: {'net_dims': (64, 64), 'lr': 2.9808598161803766e-05, 'batch_size': 64, 'gamma': 0.9901619534833068, 'tau': 0.0015189073695423617, 'horizon_len': 1024, 'eps': 0.5799339572196087, 'buffer': 390000, 'repeat': 1, 'use_per': False, 'passes': 32, 'episode_len': 20792, 'seed': 69494}\n",
      "Best logdir: /Users/seitahuang/Desktop/AMM_RL/experiments/ray_results/dqn_univ3_search_1/trainable_ray_c0016_00008_8_batch_size=64,buffer=390000,episode_len=20792,eps=0.5799,gamma=0.9902,horizon_len=1024,lr=0.0000,net_d_2025-09-19_00-15-53\n"
     ]
    }
   ],
   "source": [
    "experiment_name=\"dqn_univ3_search_1\"\n",
    "\n",
    "results, best = tune_dqn_with_ray(train_data, train_time_data, TRAIN_ENV_KW,\n",
    "                                  num_samples=num_samples,\n",
    "                                  param_space=param_space_dqn,\n",
    "                                  experiment_name=experiment_name,\n",
    "                                  storage_root=storage_root)"
   ]
  },
  {
   "cell_type": "code",
   "execution_count": null,
   "id": "0e7323b7",
   "metadata": {},
   "outputs": [],
   "source": [
    "experiment_name=\"ppo_univ3_search_1\"\n",
    "\n",
    "results, best = tune_ppo_with_ray(train_data, train_time_data, TRAIN_ENV_KW,\n",
    "                                  num_samples=num_samples,\n",
    "                                  param_space=param_space_ppo,\n",
    "                                  experiment_name=experiment_name,\n",
    "                                  storage_root=storage_root)"
   ]
  },
  {
   "cell_type": "markdown",
   "id": "5cf9065b",
   "metadata": {},
   "source": [
    "## Evaluate"
   ]
  },
  {
   "cell_type": "code",
   "execution_count": null,
   "id": "ae7b084f",
   "metadata": {},
   "outputs": [],
   "source": [
    "ENV_KW = {\n",
    "    \"init_value\": 10_000.0,\n",
    "    \"liquidation_value\": 0.0,\n",
    "    \"gas_cost\": 5.0,\n",
    "    \"fee_tier\": 0.0005,\n",
    "    \"max_steps\": int(data.shape[0]),\n",
    "    \"start_index\": 0,\n",
    "}\n",
    "\n",
    "result_root=\"./result\"\n",
    "action_dim=5\n"
   ]
  },
  {
   "cell_type": "code",
   "execution_count": null,
   "id": "cf2e76d0",
   "metadata": {},
   "outputs": [],
   "source": [
    "experiment_dir = \"./ray_results/dqn_univ3_search_1\"\n",
    "result_root = \"./result_dqn\"\n",
    "\n",
    "res_dqn_1 = best_dqn_rollout(\n",
    "    data=numeric_data,\n",
    "    time_data=time_data,\n",
    "    ENV_KW=ENV_KW,\n",
    "    experiment_dir=experiment_dir,\n",
    "    result_root=result_root,\n",
    ")\n",
    "\n",
    "result_dqn_1 = res_dqn_1[\"result\"][\"dataframe\"]"
   ]
  },
  {
   "cell_type": "code",
   "execution_count": null,
   "id": "1bcc7c43",
   "metadata": {},
   "outputs": [],
   "source": [
    "experiment_dir = \"./ray_results/ppo_univ3_search_1\"\n",
    "result_root = \"./result_ppo\"\n",
    "\n",
    "res_ppo_1 = best_ppo_rollout(\n",
    "    data=numeric_data,\n",
    "    time_data=time_data,\n",
    "    ENV_KW=ENV_KW,\n",
    "    experiment_dir=experiment_dir,\n",
    "    result_root=result_root,\n",
    ")\n",
    "\n",
    "result_ppo_1 = res_ppo_1[\"result\"][\"dataframe\"]"
   ]
  },
  {
   "cell_type": "markdown",
   "id": "33eb608b",
   "metadata": {},
   "source": [
    "## Visualization"
   ]
  },
  {
   "cell_type": "code",
   "execution_count": null,
   "id": "fa99bde0",
   "metadata": {},
   "outputs": [],
   "source": [
    "t = result_dqn_1[\"time\"]\n",
    "y = result_dqn_1[\"after_equity\"]\n",
    "a = result_dqn_1[\"allocation_ratio\"]\n",
    "\n",
    "fig = pnl_plot(t, y, a,\n",
    "                top_title=\"Reward Trajectory (All)\",\n",
    "                bottom_title=\"Action\"\n",
    "                )\n",
    "fig.show()\n"
   ]
  },
  {
   "cell_type": "code",
   "execution_count": null,
   "id": "e4e23253",
   "metadata": {},
   "outputs": [],
   "source": [
    "t = result_ppo_1[\"time\"]\n",
    "y = result_ppo_1[\"after_equity\"]\n",
    "a = result_ppo_1[\"allocation_ratio\"]\n",
    "\n",
    "fig = pnl_plot(t, y, a,\n",
    "                top_title=\"Reward Trajectory (All)\",\n",
    "                bottom_title=\"Action\"\n",
    "                )\n",
    "fig.show()\n"
   ]
  },
  {
   "cell_type": "markdown",
   "id": "54bee31a",
   "metadata": {},
   "source": [
    "## 2. Essential Features and Microstructure Features"
   ]
  },
  {
   "cell_type": "code",
   "execution_count": null,
   "id": "5dd333e7",
   "metadata": {},
   "outputs": [],
   "source": [
    "# Extract numeric features for the environment (excluding time column)\n",
    "numeric_data = data[ESSENTIAL_FEATURES+MICROSTRUCTURE_FEATURES].values\n",
    "time_data = data[[\"time\"]].values\n",
    "print(f\"\\nNumeric data shape: {numeric_data.shape}\")\n",
    "print(f\"Sample values: {numeric_data[0]}\")\n",
    "\n",
    "TRAIN_TEST_RATIO = 0.8\n",
    "TRAIN_TEST_SPLIT_POINT = int(numeric_data.shape[0] * 0.8)\n",
    "\n",
    "train_data = numeric_data[:TRAIN_TEST_SPLIT_POINT]\n",
    "train_time_data = time_data[:TRAIN_TEST_SPLIT_POINT]\n",
    "print(f\"\\nTest data shape: {train_data.shape}\")\n",
    "print(f\"Sample values: {numeric_data[0]}\")\n",
    "\n",
    "test_data = numeric_data[TRAIN_TEST_SPLIT_POINT:]\n",
    "test_time_data = time_data[TRAIN_TEST_SPLIT_POINT:]\n",
    "print(f\"\\nTrain data shape: {test_data.shape}\")\n",
    "print(f\"Sample values: {numeric_data[0]}\")"
   ]
  },
  {
   "cell_type": "markdown",
   "id": "d26312dd",
   "metadata": {},
   "source": [
    "## Train"
   ]
  },
  {
   "cell_type": "code",
   "execution_count": null,
   "id": "9633a230",
   "metadata": {},
   "outputs": [],
   "source": [
    "TRAIN_ENV_KW = {\n",
    "    \"init_value\": 100_00.0,\n",
    "    \"liquidation_value\": 0.0,\n",
    "    \"gas_cost\": 5.0,\n",
    "    \"fee_tier\": 0.0005,\n",
    "    \"max_steps\": int(train_data.shape[0]),\n",
    "    \"start_index\": 0,\n",
    "}\n",
    "\n",
    "num_samples=10\n",
    "\n",
    "param_space_dqn = {\n",
    "    \"net_dims\":   tune.choice([(64,64), (128,128), (256,256)]),\n",
    "    \"lr\":         tune.loguniform(1e-5, 5e-4),\n",
    "    \"batch_size\": tune.choice([64, 128, 256]),\n",
    "    \"gamma\":      tune.uniform(0.96, 0.995),\n",
    "    \"tau\":        tune.loguniform(1e-4, 1e-2),\n",
    "    \"horizon_len\": tune.choice([128, 256, 512, 1024]),\n",
    "    \"eps\":        tune.uniform(0.30, 0.80),\n",
    "    \"buffer\":     tune.qlograndint(int(2e5), int(1e6), int(1e4)),\n",
    "    \"repeat\":     tune.qrandint(1, 2, 1),\n",
    "    \"use_per\":    tune.choice([False, True]),\n",
    "    \"passes\":       tune.choice([16,32,64]),\n",
    "    \"episode_len\": tune.choice([int(train_data.shape[0])]),\n",
    "    \"seed\":       tune.randint(0, 1_000_000),\n",
    "}\n",
    "\n",
    "param_space_ppo = {\n",
    "    \"net_dims\":     tune.choice([(64, 64), (128, 128), (256, 128)]),\n",
    "    \"lr\":           tune.loguniform(1e-5, 3e-4),\n",
    "    \"batch_size\":   tune.choice([1024, 2048, 4096]),\n",
    "    \"gamma\":        tune.uniform(0.96, 0.999),\n",
    "    \"episode_len\":  tune.choice([int(train_data.shape[0])]),\n",
    "    \"horizon_len\":  tune.sample_from(lambda spec: spec.config[\"episode_len\"]),\n",
    "    \"repeat\":       tune.qrandint(2, 6, 1),\n",
    "    \"gae_lambda\":   tune.uniform(0.90, 0.98),\n",
    "    \"clip_ratio\":   tune.uniform(0.15, 0.35),\n",
    "    \"entropy_coef\": tune.loguniform(1e-3, 5e-2),\n",
    "    \"vf_coef\":      tune.uniform(0.3, 0.7),\n",
    "    \"passes\":       tune.choice([16,32,64]),\n",
    "    \"seed\":         tune.randint(0, 1_000_000),\n",
    "}\n",
    "\n",
    "storage_root=\"./ray_results\""
   ]
  },
  {
   "cell_type": "code",
   "execution_count": null,
   "id": "e9600584",
   "metadata": {},
   "outputs": [],
   "source": [
    "experiment_name=\"dqn_univ3_search_2\"\n",
    "\n",
    "results, best = tune_dqn_with_ray(train_data, train_time_data, TRAIN_ENV_KW,\n",
    "                                  num_samples=num_samples,\n",
    "                                  param_space=param_space_dqn,\n",
    "                                  experiment_name=experiment_name,\n",
    "                                  storage_root=storage_root)"
   ]
  },
  {
   "cell_type": "code",
   "execution_count": null,
   "id": "98d976f5",
   "metadata": {},
   "outputs": [],
   "source": [
    "experiment_name=\"ppo_univ3_search_2\"\n",
    "\n",
    "results, best = tune_ppo_with_ray(train_data, train_time_data, TRAIN_ENV_KW,\n",
    "                                  num_samples=num_samples,\n",
    "                                  param_space=param_space_ppo,\n",
    "                                  experiment_name=experiment_name,\n",
    "                                  storage_root=storage_root)"
   ]
  },
  {
   "cell_type": "markdown",
   "id": "382160c9",
   "metadata": {},
   "source": [
    "## Evaluate"
   ]
  },
  {
   "cell_type": "code",
   "execution_count": null,
   "id": "78b47bcf",
   "metadata": {},
   "outputs": [],
   "source": [
    "ENV_KW = {\n",
    "    \"init_value\": 10_000.0,\n",
    "    \"liquidation_value\": 0.0,\n",
    "    \"gas_cost\": 5.0,\n",
    "    \"fee_tier\": 0.0005,\n",
    "    \"max_steps\": int(data.shape[0]),\n",
    "    \"start_index\": 0,\n",
    "}\n",
    "\n",
    "result_root=\"./result\"\n",
    "action_dim=5\n"
   ]
  },
  {
   "cell_type": "code",
   "execution_count": null,
   "id": "6f140e7e",
   "metadata": {},
   "outputs": [],
   "source": [
    "experiment_dir = \"./ray_results/dqn_univ3_search_2\"\n",
    "result_root = \"./result_dqn\"\n",
    "\n",
    "res_dqn_2 = best_dqn_rollout(\n",
    "    data=numeric_data,\n",
    "    time_data=time_data,\n",
    "    ENV_KW=ENV_KW,\n",
    "    experiment_dir=experiment_dir,\n",
    "    result_root=result_root,\n",
    ")\n",
    "\n",
    "result_dqn_2= res_dqn_2[\"result\"][\"dataframe\"]"
   ]
  },
  {
   "cell_type": "code",
   "execution_count": null,
   "id": "65119fdb",
   "metadata": {},
   "outputs": [],
   "source": [
    "experiment_dir = \"./ray_results/ppo_univ3_search_2\"\n",
    "result_root = \"./result_ppo\"\n",
    "\n",
    "res_ppo_2 = best_ppo_rollout(\n",
    "    data=numeric_data,\n",
    "    time_data=time_data,\n",
    "    ENV_KW=ENV_KW,\n",
    "    experiment_dir=experiment_dir,\n",
    "    result_root=result_root,\n",
    ")\n",
    "\n",
    "result_ppo_2 = res_ppo_2[\"result\"][\"dataframe\"]"
   ]
  },
  {
   "cell_type": "markdown",
   "id": "dc1ec013",
   "metadata": {},
   "source": [
    "## Visualization"
   ]
  },
  {
   "cell_type": "code",
   "execution_count": null,
   "id": "65373f51",
   "metadata": {},
   "outputs": [],
   "source": [
    "t = result_dqn_2[\"time\"]\n",
    "y = result_dqn_2[\"after_equity\"]\n",
    "a = result_dqn_2[\"allocation_ratio\"]\n",
    "\n",
    "fig = pnl_plot(t, y, a,\n",
    "                top_title=\"Reward Trajectory (All)\",\n",
    "                bottom_title=\"Action\"\n",
    "                )\n",
    "fig.show()\n"
   ]
  },
  {
   "cell_type": "code",
   "execution_count": null,
   "id": "be03c0ff",
   "metadata": {},
   "outputs": [],
   "source": [
    "t = result_ppo_2[\"time\"]\n",
    "y = result_ppo_2[\"after_equity\"]\n",
    "a = result_ppo_2[\"allocation_ratio\"]\n",
    "\n",
    "fig = pnl_plot(t, y, a,\n",
    "                top_title=\"Reward Trajectory (All)\",\n",
    "                bottom_title=\"Action\"\n",
    "                )\n",
    "fig.show()\n"
   ]
  },
  {
   "cell_type": "markdown",
   "id": "db8ed4f7",
   "metadata": {},
   "source": [
    "## 3. Essential Features, Microstructure Features and Technical Features"
   ]
  },
  {
   "cell_type": "code",
   "execution_count": null,
   "id": "89b934a5",
   "metadata": {},
   "outputs": [],
   "source": [
    "# Extract numeric features for the environment (excluding time column)\n",
    "numeric_data = data[ESSENTIAL_FEATURES+MICROSTRUCTURE_FEATURES+TECHNICAL_FEATURES].values\n",
    "time_data = data[[\"time\"]].values\n",
    "print(f\"\\nNumeric data shape: {numeric_data.shape}\")\n",
    "print(f\"Sample values: {numeric_data[0]}\")\n",
    "\n",
    "TRAIN_TEST_RATIO = 0.8\n",
    "TRAIN_TEST_SPLIT_POINT = int(numeric_data.shape[0] * 0.8)\n",
    "\n",
    "train_data = numeric_data[:TRAIN_TEST_SPLIT_POINT]\n",
    "train_time_data = time_data[:TRAIN_TEST_SPLIT_POINT]\n",
    "print(f\"\\nTest data shape: {train_data.shape}\")\n",
    "print(f\"Sample values: {numeric_data[0]}\")\n",
    "\n",
    "test_data = numeric_data[TRAIN_TEST_SPLIT_POINT:]\n",
    "test_time_data = time_data[TRAIN_TEST_SPLIT_POINT:]\n",
    "print(f\"\\nTrain data shape: {test_data.shape}\")\n",
    "print(f\"Sample values: {numeric_data[0]}\")"
   ]
  },
  {
   "cell_type": "markdown",
   "id": "85c28149",
   "metadata": {},
   "source": [
    "## Train"
   ]
  },
  {
   "cell_type": "code",
   "execution_count": null,
   "id": "b70e3093",
   "metadata": {},
   "outputs": [],
   "source": [
    "TRAIN_ENV_KW = {\n",
    "    \"init_value\": 100_00.0,\n",
    "    \"liquidation_value\": 0.0,\n",
    "    \"gas_cost\": 0,\n",
    "    \"fee_tier\": 0.0005,\n",
    "    \"max_steps\": int(train_data.shape[0]),\n",
    "    \"start_index\": 0,\n",
    "}\n",
    "\n",
    "num_samples=10\n",
    "\n",
    "param_space_dqn = {\n",
    "    \"net_dims\":   tune.choice([(64,64), (128,128), (256,256)]),\n",
    "    \"lr\":         tune.loguniform(1e-5, 5e-4),\n",
    "    \"batch_size\": tune.choice([64, 128, 256]),\n",
    "    \"gamma\":      tune.uniform(0.96, 0.995),\n",
    "    \"tau\":        tune.loguniform(1e-4, 1e-2),\n",
    "    \"horizon_len\": tune.choice([128, 256, 512, 1024]),\n",
    "    \"eps\":        tune.uniform(0.30, 0.80),\n",
    "    \"buffer\":     tune.qlograndint(int(2e5), int(1e6), int(1e4)),\n",
    "    \"repeat\":     tune.qrandint(1, 2, 1),\n",
    "    \"use_per\":    tune.choice([False, True]),\n",
    "    \"passes\":       tune.choice([2,4]),\n",
    "    \"episode_len\": tune.choice([int(train_data.shape[0])]),\n",
    "    \"seed\":       tune.randint(0, 1_000_000),\n",
    "}\n",
    "\n",
    "param_space_ppo = {\n",
    "    \"net_dims\":     tune.choice([(64, 64), (128, 128), (256, 128)]),\n",
    "    \"lr\":           tune.loguniform(1e-5, 3e-4),\n",
    "    \"batch_size\":   tune.choice([1024, 2048, 4096]),\n",
    "    \"gamma\":        tune.uniform(0.96, 0.999),\n",
    "    \"episode_len\":  tune.choice([int(train_data.shape[0])]),\n",
    "    \"horizon_len\":  tune.sample_from(lambda spec: spec.config[\"episode_len\"]),\n",
    "    \"repeat\":       tune.qrandint(2, 6, 1),\n",
    "    \"gae_lambda\":   tune.uniform(0.90, 0.98),\n",
    "    \"clip_ratio\":   tune.uniform(0.15, 0.35),\n",
    "    \"entropy_coef\": tune.loguniform(1e-3, 5e-2),\n",
    "    \"vf_coef\":      tune.uniform(0.3, 0.7),\n",
    "    \"passes\":       tune.choice([2, 4]),\n",
    "    \"seed\":         tune.randint(0, 1_000_000),\n",
    "}\n",
    "\n",
    "storage_root=\"./ray_results\""
   ]
  },
  {
   "cell_type": "code",
   "execution_count": null,
   "id": "4bd5c59e",
   "metadata": {},
   "outputs": [],
   "source": [
    "experiment_name=\"dqn_univ3_search_3\"\n",
    "\n",
    "results, best = tune_dqn_with_ray(train_data, train_time_data, TRAIN_ENV_KW,\n",
    "                                  num_samples=num_samples,\n",
    "                                  param_space=param_space_dqn,\n",
    "                                  experiment_name=experiment_name,\n",
    "                                  storage_root=storage_root)"
   ]
  },
  {
   "cell_type": "code",
   "execution_count": null,
   "id": "828c49e7",
   "metadata": {},
   "outputs": [],
   "source": [
    "experiment_name=\"ppo_univ3_search_3\"\n",
    "\n",
    "results, best = tune_ppo_with_ray(train_data, train_time_data, TRAIN_ENV_KW,\n",
    "                                  num_samples=num_samples,\n",
    "                                  param_space=param_space_ppo,\n",
    "                                  experiment_name=experiment_name,\n",
    "                                  storage_root=storage_root)"
   ]
  },
  {
   "cell_type": "markdown",
   "id": "0e07d98e",
   "metadata": {},
   "source": [
    "## Evaluate"
   ]
  },
  {
   "cell_type": "code",
   "execution_count": null,
   "id": "ae58d9cd",
   "metadata": {},
   "outputs": [],
   "source": [
    "ENV_KW = {\n",
    "    \"init_value\": 10_000.0,\n",
    "    \"liquidation_value\": 0.0,\n",
    "    \"gas_cost\": 0.0,\n",
    "    \"fee_tier\": 0.0005,\n",
    "    \"max_steps\": int(data.shape[0]),\n",
    "    \"start_index\": 0,\n",
    "}\n",
    "\n",
    "result_root=\"./result\"\n",
    "action_dim=5"
   ]
  },
  {
   "cell_type": "code",
   "execution_count": null,
   "id": "e34b6791",
   "metadata": {},
   "outputs": [],
   "source": [
    "experiment_dir = \"./ray_results/dqn_univ3_search_3\"\n",
    "result_root = \"./result_dqn\"\n",
    "\n",
    "res_dqn_3 = best_dqn_rollout(\n",
    "    data=numeric_data,\n",
    "    time_data=time_data,\n",
    "    ENV_KW=ENV_KW,\n",
    "    experiment_dir=experiment_dir,\n",
    "    result_root=result_root,\n",
    ")\n",
    "\n",
    "result_dqn_3 = res_dqn_3[\"result\"][\"dataframe\"]"
   ]
  },
  {
   "cell_type": "code",
   "execution_count": null,
   "id": "c35344fc",
   "metadata": {},
   "outputs": [],
   "source": [
    "experiment_dir = \"./ray_results/ppo_univ3_search_3\"\n",
    "result_root = \"./result_ppo\"\n",
    "\n",
    "res_ppo_3 = best_ppo_rollout(\n",
    "    data=numeric_data,\n",
    "    time_data=time_data,\n",
    "    ENV_KW=ENV_KW,\n",
    "    experiment_dir=experiment_dir,\n",
    "    result_root=result_root,\n",
    ")\n",
    "\n",
    "result_ppo_3 = res_ppo_3[\"result\"][\"dataframe\"]"
   ]
  },
  {
   "cell_type": "markdown",
   "id": "c984ae6c",
   "metadata": {},
   "source": [
    "## Visualization"
   ]
  },
  {
   "cell_type": "code",
   "execution_count": null,
   "id": "882fdd26",
   "metadata": {},
   "outputs": [],
   "source": [
    "t = result_dqn_3[\"time\"]\n",
    "y = result_dqn_3[\"after_equity\"]\n",
    "a = result_dqn_3[\"allocation_ratio\"]\n",
    "\n",
    "fig = pnl_plot(t, y, a,\n",
    "                top_title=\"Reward Trajectory (All)\",\n",
    "                bottom_title=\"Action\"\n",
    "                )\n",
    "fig.show()\n"
   ]
  },
  {
   "cell_type": "code",
   "execution_count": null,
   "id": "cb2faee0",
   "metadata": {},
   "outputs": [],
   "source": [
    "t = result_ppo_3[\"time\"]\n",
    "y = result_ppo_3[\"after_equity\"]\n",
    "a = result_ppo_3[\"allocation_ratio\"]\n",
    "\n",
    "fig = pnl_plot(t, y, a,\n",
    "                top_title=\"Reward Trajectory (All)\",\n",
    "                bottom_title=\"Action\"\n",
    "                )\n",
    "fig.show()\n"
   ]
  },
  {
   "cell_type": "markdown",
   "id": "3ace3064",
   "metadata": {},
   "source": [
    "## 4. Essential Features and Regime Label Based on Microstructure Features"
   ]
  },
  {
   "cell_type": "code",
   "execution_count": null,
   "id": "044f6052",
   "metadata": {},
   "outputs": [],
   "source": [
    "# Extract numeric features for the environment (excluding time column)\n",
    "numeric_data = data[ESSENTIAL_FEATURES+REGIME_LABEL_BASED_ON_MICROSTURCTURE_FEATURES].values\n",
    "time_data = data[[\"time\"]].values\n",
    "print(f\"\\nNumeric data shape: {numeric_data.shape}\")\n",
    "print(f\"Sample values: {numeric_data[0]}\")\n",
    "\n",
    "TRAIN_TEST_RATIO = 0.8\n",
    "TRAIN_TEST_SPLIT_POINT = int(numeric_data.shape[0] * 0.8)\n",
    "\n",
    "train_data = numeric_data[:TRAIN_TEST_SPLIT_POINT]\n",
    "train_time_data = time_data[:TRAIN_TEST_SPLIT_POINT]\n",
    "print(f\"\\nTest data shape: {train_data.shape}\")\n",
    "print(f\"Sample values: {numeric_data[0]}\")\n",
    "\n",
    "test_data = numeric_data[TRAIN_TEST_SPLIT_POINT:]\n",
    "test_time_data = time_data[TRAIN_TEST_SPLIT_POINT:]\n",
    "print(f\"\\nTrain data shape: {test_data.shape}\")\n",
    "print(f\"Sample values: {numeric_data[0]}\")"
   ]
  },
  {
   "cell_type": "markdown",
   "id": "865baf5a",
   "metadata": {},
   "source": [
    "## Train"
   ]
  },
  {
   "cell_type": "code",
   "execution_count": null,
   "id": "a2003036",
   "metadata": {},
   "outputs": [],
   "source": [
    "TRAIN_ENV_KW = {\n",
    "    \"init_value\": 100_000.0,\n",
    "    \"liquidation_value\": 0.0,\n",
    "    \"gas_cost\": 0,\n",
    "    \"fee_tier\": 0.0005,\n",
    "    \"max_steps\": int(train_data.shape[0]),\n",
    "    \"start_index\": 0,\n",
    "}\n",
    "\n",
    "num_samples=50\n",
    "\n",
    "param_space_dqn = {\n",
    "    \"net_dims\":   tune.choice([(64,64), (128,128), (256,256)]),\n",
    "    \"lr\":         tune.loguniform(1e-5, 5e-4),\n",
    "    \"batch_size\": tune.choice([64, 128, 256]),\n",
    "    \"gamma\":      tune.uniform(0.96, 0.995),\n",
    "    \"tau\":        tune.loguniform(1e-4, 1e-2),\n",
    "    \"horizon_len\": tune.choice([128, 256, 512, 1024]),\n",
    "    \"eps\":        tune.uniform(0.30, 0.80),\n",
    "    \"buffer\":     tune.qlograndint(int(2e5), int(1e6), int(1e4)),\n",
    "    \"repeat\":     tune.qrandint(1, 2, 1),\n",
    "    \"use_per\":    tune.choice([False, True]),\n",
    "    \"passes\":       tune.choice([2]),\n",
    "    \"episode_len\": tune.choice([int(train_data.shape[0])]),\n",
    "    \"seed\":       tune.randint(0, 1_000_000),\n",
    "}\n",
    "\n",
    "param_space_ppo = {\n",
    "    \"net_dims\":     tune.choice([(64, 64), (128, 128), (256, 128)]),\n",
    "    \"lr\":           tune.loguniform(1e-5, 3e-4),\n",
    "    \"batch_size\":   tune.choice([128, 256, 512]),\n",
    "    \"gamma\":        tune.uniform(0.96, 0.999),\n",
    "    \"episode_len\":  tune.choice([int(train_data.shape[0])]),\n",
    "    \"horizon_len\":  tune.sample_from(lambda spec: spec.config[\"episode_len\"]),\n",
    "    \"repeat\":       tune.qrandint(2, 6, 1),\n",
    "    \"gae_lambda\":   tune.uniform(0.90, 0.98),\n",
    "    \"clip_ratio\":   tune.uniform(0.15, 0.35),\n",
    "    \"entropy_coef\": tune.loguniform(1e-3, 5e-2),\n",
    "    \"vf_coef\":      tune.uniform(0.3, 0.7),\n",
    "    \"passes\":       tune.choice([128,256,512]),\n",
    "    \"seed\":         tune.randint(0, 1_000_000),\n",
    "}\n",
    "\n",
    "storage_root=\"./ray_results\""
   ]
  },
  {
   "cell_type": "code",
   "execution_count": null,
   "id": "07b5f8bc",
   "metadata": {},
   "outputs": [],
   "source": [
    "experiment_name=\"dqn_univ3_search_4\"\n",
    "\n",
    "results, best = tune_dqn_with_ray(train_data, train_time_data, TRAIN_ENV_KW,\n",
    "                                  num_samples=num_samples,\n",
    "                                  param_space=param_space_dqn,\n",
    "                                  experiment_name=experiment_name,\n",
    "                                  storage_root=storage_root)"
   ]
  },
  {
   "cell_type": "code",
   "execution_count": null,
   "id": "c841ce36",
   "metadata": {},
   "outputs": [],
   "source": [
    "experiment_name=\"ppo_univ3_search_4\"\n",
    "\n",
    "results, best = tune_ppo_with_ray(train_data, train_time_data, TRAIN_ENV_KW,\n",
    "                                  num_samples=num_samples,\n",
    "                                  experiment_name=experiment_name,\n",
    "                                  storage_root=storage_root)"
   ]
  },
  {
   "cell_type": "markdown",
   "id": "f338abb5",
   "metadata": {},
   "source": [
    "## Evaluate"
   ]
  },
  {
   "cell_type": "code",
   "execution_count": null,
   "id": "652a82b8",
   "metadata": {},
   "outputs": [],
   "source": [
    "ENV_KW = {\n",
    "    \"init_value\": 10_000.0,\n",
    "    \"liquidation_value\": 0.0,\n",
    "    \"gas_cost\": 0.0,\n",
    "    \"fee_tier\": 0.0005,\n",
    "    \"max_steps\": int(data.shape[0]),\n",
    "    \"start_index\": 0,\n",
    "}\n",
    "\n",
    "result_root=\"./result\"\n",
    "action_dim=5"
   ]
  },
  {
   "cell_type": "code",
   "execution_count": null,
   "id": "1ecb55bb",
   "metadata": {},
   "outputs": [],
   "source": [
    "experiment_dir = \"./ray_results/dqn_univ3_search_4\"\n",
    "result_root = \"./result_dqn\"\n",
    "\n",
    "res_dqn_4 = best_dqn_rollout(\n",
    "    data=numeric_data,\n",
    "    time_data=time_data,\n",
    "    ENV_KW=ENV_KW,\n",
    "    experiment_dir=experiment_dir,\n",
    "    result_root=result_root,\n",
    ")\n",
    "\n",
    "result_dqn_4 = res_dqn_4[\"result\"][\"dataframe\"]"
   ]
  },
  {
   "cell_type": "code",
   "execution_count": null,
   "id": "9baa46f3",
   "metadata": {},
   "outputs": [],
   "source": [
    "experiment_dir = \"./ray_results/ppo_univ3_search_4\"\n",
    "result_root = \"./result_ppo\"\n",
    "\n",
    "res_ppo_4 = best_ppo_rollout(\n",
    "    data=numeric_data,\n",
    "    time_data=time_data,\n",
    "    ENV_KW=ENV_KW,\n",
    "    experiment_dir=experiment_dir,\n",
    "    result_root=result_root,\n",
    ")\n",
    "\n",
    "result_ppo_4 = res_ppo_4[\"result\"][\"dataframe\"]"
   ]
  },
  {
   "cell_type": "markdown",
   "id": "a20e876e",
   "metadata": {},
   "source": [
    "## Visualization"
   ]
  },
  {
   "cell_type": "code",
   "execution_count": null,
   "id": "a03237b4",
   "metadata": {},
   "outputs": [],
   "source": [
    "t = result_dqn_4[\"time\"]\n",
    "y = result_dqn_4[\"after_equity\"]\n",
    "a = result_dqn_4[\"allocation_ratio\"]\n",
    "\n",
    "fig = pnl_plot(t, y, a,\n",
    "                top_title=\"Reward Trajectory (All)\",\n",
    "                bottom_title=\"Action\"\n",
    "                )\n",
    "fig.show()\n"
   ]
  },
  {
   "cell_type": "code",
   "execution_count": null,
   "id": "9dd4ab28",
   "metadata": {},
   "outputs": [],
   "source": [
    "t = result_ppo_4[\"time\"]\n",
    "y = result_ppo_4[\"after_equity\"]\n",
    "a = result_ppo_4[\"allocation_ratio\"]\n",
    "\n",
    "fig = pnl_plot(t, y, a,\n",
    "                top_title=\"Reward Trajectory (All)\",\n",
    "                bottom_title=\"Action\"\n",
    "                )\n",
    "fig.show()\n"
   ]
  },
  {
   "cell_type": "markdown",
   "id": "6da0849c",
   "metadata": {},
   "source": [
    "## 5. Essential Features and Regime Label Based on All Features"
   ]
  },
  {
   "cell_type": "code",
   "execution_count": null,
   "id": "5b2657db",
   "metadata": {},
   "outputs": [],
   "source": [
    "# Extract numeric features for the environment (excluding time column)\n",
    "numeric_data = data[ESSENTIAL_FEATURES+REGIME_LABEL_BASED_ON_ALL_FEATURES].values\n",
    "time_data = data[[\"time\"]].values\n",
    "print(f\"\\nNumeric data shape: {numeric_data.shape}\")\n",
    "print(f\"Sample values: {numeric_data[0]}\")\n",
    "\n",
    "TRAIN_TEST_RATIO = 0.8\n",
    "TRAIN_TEST_SPLIT_POINT = int(numeric_data.shape[0] * 0.8)\n",
    "\n",
    "train_data = numeric_data[:TRAIN_TEST_SPLIT_POINT]\n",
    "train_time_data = time_data[:TRAIN_TEST_SPLIT_POINT]\n",
    "print(f\"\\nTest data shape: {train_data.shape}\")\n",
    "print(f\"Sample values: {numeric_data[0]}\")\n",
    "\n",
    "test_data = numeric_data[TRAIN_TEST_SPLIT_POINT:]\n",
    "test_time_data = time_data[TRAIN_TEST_SPLIT_POINT:]\n",
    "print(f\"\\nTrain data shape: {test_data.shape}\")\n",
    "print(f\"Sample values: {numeric_data[0]}\")"
   ]
  },
  {
   "cell_type": "markdown",
   "id": "55b94e16",
   "metadata": {},
   "source": [
    "## Train"
   ]
  },
  {
   "cell_type": "code",
   "execution_count": null,
   "id": "5edff5af",
   "metadata": {},
   "outputs": [],
   "source": [
    "TRAIN_ENV_KW = {\n",
    "    \"init_value\": 100_00.0,\n",
    "    \"liquidation_value\": 0.0,\n",
    "    \"gas_cost\": 0,\n",
    "    \"fee_tier\": 0.0005,\n",
    "    \"max_steps\": int(train_data.shape[0]),\n",
    "    \"start_index\": 0,\n",
    "}\n",
    "\n",
    "num_samples=50\n",
    "\n",
    "param_space_dqn = {\n",
    "    \"net_dims\":   tune.choice([(64,64), (128,128), (256,256)]),\n",
    "    \"lr\":         tune.loguniform(1e-5, 5e-4),\n",
    "    \"batch_size\": tune.choice([64, 128, 256]),\n",
    "    \"gamma\":      tune.uniform(0.96, 0.995),\n",
    "    \"tau\":        tune.loguniform(1e-4, 1e-2),\n",
    "    \"horizon_len\": tune.choice([128, 256, 512, 1024]),\n",
    "    \"eps\":        tune.uniform(0.30, 0.80),\n",
    "    \"buffer\":     tune.qlograndint(int(2e5), int(1e6), int(1e4)),\n",
    "    \"repeat\":     tune.qrandint(1, 2, 1),\n",
    "    \"use_per\":    tune.choice([False, True]),\n",
    "    \"passes\":       tune.choice([16,32,64]),\n",
    "    \"episode_len\": tune.choice([int(train_data.shape[0])]),\n",
    "    \"seed\":       tune.randint(0, 1_000_000),\n",
    "}\n",
    "\n",
    "param_space_ppo = {\n",
    "    \"net_dims\":     tune.choice([(64, 64), (128, 128), (256, 128)]),\n",
    "    \"lr\":           tune.loguniform(1e-5, 3e-4),\n",
    "    \"batch_size\":   tune.choice([1024, 2048, 4096]),\n",
    "    \"gamma\":        tune.uniform(0.96, 0.999),\n",
    "    \"episode_len\":  tune.choice([int(train_data.shape[0])]),\n",
    "    \"horizon_len\":  tune.sample_from(lambda spec: spec.config[\"episode_len\"]),\n",
    "    \"repeat\":       tune.qrandint(2, 6, 1),\n",
    "    \"gae_lambda\":   tune.uniform(0.90, 0.98),\n",
    "    \"clip_ratio\":   tune.uniform(0.15, 0.35),\n",
    "    \"entropy_coef\": tune.loguniform(1e-3, 5e-2),\n",
    "    \"vf_coef\":      tune.uniform(0.3, 0.7),\n",
    "    \"passes\":       tune.choice([16,32,64]),\n",
    "    \"seed\":         tune.randint(0, 1_000_000),\n",
    "}\n",
    "\n",
    "storage_root=\"./ray_results\""
   ]
  },
  {
   "cell_type": "code",
   "execution_count": null,
   "id": "175710f9",
   "metadata": {},
   "outputs": [],
   "source": [
    "experiment_name=\"dqn_univ3_search_5\"\n",
    "\n",
    "results, best = tune_dqn_with_ray(train_data, train_time_data, TRAIN_ENV_KW,\n",
    "                                  num_samples=num_samples,\n",
    "                                  param_space=param_space_dqn,\n",
    "                                  experiment_name=experiment_name,\n",
    "                                  storage_root=storage_root)"
   ]
  },
  {
   "cell_type": "code",
   "execution_count": null,
   "id": "5bd23bb7",
   "metadata": {},
   "outputs": [],
   "source": [
    "experiment_name=\"ppo_univ3_search_5\"\n",
    "\n",
    "results, best = tune_ppo_with_ray(train_data, train_time_data, TRAIN_ENV_KW,\n",
    "                                  num_samples=num_samples,\n",
    "                                  experiment_name=experiment_name,\n",
    "                                  storage_root=storage_root)"
   ]
  },
  {
   "cell_type": "markdown",
   "id": "01583edb",
   "metadata": {},
   "source": [
    "## Evaluate"
   ]
  },
  {
   "cell_type": "code",
   "execution_count": null,
   "id": "3caed3c6",
   "metadata": {},
   "outputs": [],
   "source": [
    "ENV_KW = {\n",
    "    \"init_value\": 10_000.0,\n",
    "    \"liquidation_value\": 0.0,\n",
    "    \"gas_cost\": 5.0,\n",
    "    \"fee_tier\": 0.0005,\n",
    "    \"max_steps\": int(data.shape[0]),\n",
    "    \"start_index\": 0,\n",
    "}\n",
    "\n",
    "result_root=\"./result\"\n",
    "action_dim=5"
   ]
  },
  {
   "cell_type": "code",
   "execution_count": null,
   "id": "f9beccb2",
   "metadata": {},
   "outputs": [],
   "source": [
    "experiment_dir = \"./ray_results/dqn_univ3_search_5\"\n",
    "result_root = \"./result_dqn\"\n",
    "\n",
    "res_dqn_5 = best_dqn_rollout(\n",
    "    data=numeric_data,\n",
    "    time_data=time_data,\n",
    "    ENV_KW=ENV_KW,\n",
    "    experiment_dir=experiment_dir,\n",
    "    result_root=result_root,\n",
    ")\n",
    "\n",
    "result_dqn_5 = res_dqn_5[\"result\"][\"dataframe\"]"
   ]
  },
  {
   "cell_type": "code",
   "execution_count": null,
   "id": "b4eb4097",
   "metadata": {},
   "outputs": [],
   "source": [
    "experiment_dir = \"./ray_results/ppo_univ3_search_5\"\n",
    "result_root = \"./result_ppo\"\n",
    "\n",
    "res_ppo_5= best_ppo_rollout(\n",
    "    data=numeric_data,\n",
    "    time_data=time_data,\n",
    "    ENV_KW=ENV_KW,\n",
    "    experiment_dir=experiment_dir,\n",
    "    result_root=result_root,\n",
    ")\n",
    "\n",
    "result_ppo_5 = res_ppo_5[\"result\"][\"dataframe\"]"
   ]
  },
  {
   "cell_type": "markdown",
   "id": "5ca9e23d",
   "metadata": {},
   "source": [
    "## Visualization"
   ]
  },
  {
   "cell_type": "code",
   "execution_count": null,
   "id": "b5a1975f",
   "metadata": {},
   "outputs": [],
   "source": [
    "t = result_dqn_5[\"time\"]\n",
    "y = result_dqn_5[\"after_equity\"]\n",
    "a = result_dqn_5[\"allocation_ratio\"]\n",
    "\n",
    "fig = pnl_plot(t, y, a,\n",
    "                top_title=\"Reward Trajectory (All)\",\n",
    "                bottom_title=\"Action\"\n",
    "                )\n",
    "fig.show()\n"
   ]
  },
  {
   "cell_type": "code",
   "execution_count": null,
   "id": "22c0e472",
   "metadata": {},
   "outputs": [],
   "source": [
    "t = result_ppo_5[\"time\"]\n",
    "y = result_ppo_5[\"after_equity\"]\n",
    "a = result_ppo_5[\"allocation_ratio\"]\n",
    "\n",
    "fig = pnl_plot(t, y, a,\n",
    "                top_title=\"Reward Trajectory (All)\",\n",
    "                bottom_title=\"Action\"\n",
    "                )\n",
    "fig.show()\n"
   ]
  }
 ],
 "metadata": {
  "kernelspec": {
   "display_name": "elrl",
   "language": "python",
   "name": "python3"
  },
  "language_info": {
   "codemirror_mode": {
    "name": "ipython",
    "version": 3
   },
   "file_extension": ".py",
   "mimetype": "text/x-python",
   "name": "python",
   "nbconvert_exporter": "python",
   "pygments_lexer": "ipython3",
   "version": "3.10.15"
  }
 },
 "nbformat": 4,
 "nbformat_minor": 5
}
