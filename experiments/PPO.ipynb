{
 "cells": [
  {
   "cell_type": "markdown",
   "id": "05fdc4d0",
   "metadata": {},
   "source": [
    "# Import Packages"
   ]
  },
  {
   "cell_type": "code",
   "execution_count": null,
   "id": "75a8bd6e",
   "metadata": {},
   "outputs": [],
   "source": [
    "import pandas as pd\n",
    "import numpy as np\n",
    "import sys\n",
    "import os\n",
    "import torch\n",
    "\n",
    "# Add parent directory to path for imports\n",
    "parent_dir = os.path.dirname(os.path.dirname(os.path.abspath('__file__')))\n",
    "sys.path.append(parent_dir)\n",
    "\n",
    "# Import ElegantRL components\n",
    "from elegantrl.agents.AgentPPO import AgentPPO\n",
    "from elegantrl.agents.AgentDQN import AgentDQN\n",
    "from elegantrl.train.config import Config\n",
    "from elegantrl.train.run import train_agent\n",
    "\n",
    "# Import our custom environment from utils\n",
    "from utils.env import UniswapV3LiquidityEnv\n",
    "from utils.tune import tune_ppo_with_ray\n",
    "from utils.eval import best_ppo_rollout\n",
    "from utils.visualize import pnl_plot\n",
    "\n",
    "print(\"✅ All imports successful!\")\n",
    "print(f\"PyTorch version: {torch.__version__}\")\n",
    "print(f\"Device: {'CUDA' if torch.cuda.is_available() else 'CPU'}\")\n",
    "print(f\"Parent directory added: {parent_dir}\")"
   ]
  },
  {
   "cell_type": "markdown",
   "id": "28ec20ed",
   "metadata": {},
   "source": [
    "# Loading Data"
   ]
  },
  {
   "cell_type": "code",
   "execution_count": null,
   "id": "b000bc84",
   "metadata": {},
   "outputs": [],
   "source": [
    "# Load and prepare data\n",
    "data_path = \"../data/organized_hourly_data.csv\"\n",
    "data = pd.read_csv(data_path)\n",
    "\n",
    "print(f\"Data shape: {data.shape}\")\n",
    "print(f\"Data columns: {data.columns.tolist()}\")\n",
    "print(\"\\nFirst few rows:\")\n",
    "print(data.head())\n",
    "\n",
    "ESSENTIAL_FEATURES = ['closed_price', 'scaled_volume_WETH', 'scaled_volume_USDC']\n",
    "MICROSTRUCTURE_FEATURES = ['volume_imbalance', 'scaled_total_volume', 'n_swap', 'interval_swap', 'liquidity', 'tick', 'R_ewma', 'volatility_ewm']\n",
    "TECHNICAL_FEATURES = ['ma24', 'ma168', 'bb_upper', 'bb_middle', 'bb_lower', 'adxr', 'dx', 'n_mb']\n",
    "REGIME_LABEL_BASED_ON_MICROSTURCTURE_FEATURES = []\n",
    "REGIME_LABEL_BASED_ON_ALL_FEATURES = []\n",
    "\n",
    "print(f\"\\nEssentail Features: {ESSENTIAL_FEATURES}\")\n",
    "print(f\"Microstructure Features: {MICROSTRUCTURE_FEATURES}\")\n",
    "print(f\"Technical Features: {TECHNICAL_FEATURES}\")"
   ]
  },
  {
   "cell_type": "markdown",
   "id": "998b61a1",
   "metadata": {},
   "source": [
    "## 1. Essential Features"
   ]
  },
  {
   "cell_type": "code",
   "execution_count": null,
   "id": "aee01adb",
   "metadata": {},
   "outputs": [],
   "source": [
    "# Extract numeric features for the environment (excluding time column)\n",
    "numeric_data = data[ESSENTIAL_FEATURES].values\n",
    "time_data = data[[\"time\"]].values\n",
    "print(f\"\\nNumeric data shape: {numeric_data.shape}\")\n",
    "print(f\"Sample values: {numeric_data[0]}\")\n",
    "\n",
    "TRAIN_TEST_RATIO = 0.8\n",
    "TRAIN_TEST_SPLIT_POINT = int(numeric_data.shape[0] * 0.8)\n",
    "\n",
    "train_data = numeric_data[:TRAIN_TEST_SPLIT_POINT]\n",
    "train_time_data = time_data[:TRAIN_TEST_SPLIT_POINT]\n",
    "print(f\"\\nTest data shape: {train_data.shape}\")\n",
    "print(f\"Sample values: {numeric_data[0]}\")\n",
    "\n",
    "test_data = numeric_data[TRAIN_TEST_SPLIT_POINT:]\n",
    "test_time_data = time_data[TRAIN_TEST_SPLIT_POINT:]\n",
    "print(f\"\\nTrain data shape: {test_data.shape}\")\n",
    "print(f\"Sample values: {numeric_data[0]}\")"
   ]
  },
  {
   "cell_type": "code",
   "execution_count": null,
   "id": "b9191af3",
   "metadata": {},
   "outputs": [],
   "source": [
    "TRAIN_ENV_KW = {\n",
    "    \"total_liquidity\": 1e17,\n",
    "    \"gas_cost\": 5.0,\n",
    "    \"fee_tier\": 0.0005,\n",
    "    \"max_steps\": train_data.shape[0],\n",
    "    \"start_index\": 0\n",
    "}\n",
    "\n",
    "num_samples=20\n",
    "experiment_name=\"ppo_univ3_search_1\"\n",
    "storage_root=\"./ray_results\""
   ]
  },
  {
   "cell_type": "code",
   "execution_count": null,
   "id": "c25108a1",
   "metadata": {},
   "outputs": [],
   "source": [
    "results, best = tune_ppo_with_ray(\n",
    "    train_data=train_data,\n",
    "    train_time_data=train_time_data,\n",
    "    TRAIN_ENV_KW=TRAIN_ENV_KW,\n",
    "    num_samples=num_samples,                             \n",
    "    experiment_name=experiment_name,          \n",
    "    storage_root=storage_root,             \n",
    "    param_space=None                           \n",
    ")"
   ]
  },
  {
   "cell_type": "code",
   "execution_count": null,
   "id": "e80da31d",
   "metadata": {},
   "outputs": [],
   "source": [
    "TRAIN_ENV_KW = {\n",
    "    \"total_liquidity\": 1e17,\n",
    "    \"gas_cost\": 5.0,\n",
    "    \"fee_tier\": 0.0005,\n",
    "    \"max_steps\": train_data.shape[0],   # your env uses max_steps (not max_step)\n",
    "    \"start_index\": 0\n",
    "}\n",
    "\n",
    "TEST_ENV_KW = {\n",
    "    \"total_liquidity\": 1e17,\n",
    "    \"gas_cost\": 5.0,\n",
    "    \"fee_tier\": 0.0005,\n",
    "    \"max_steps\": test_data.shape[0],\n",
    "    \"start_index\": 0\n",
    "}\n",
    "\n",
    "result_root=\"./result\"\n",
    "experiment_dir=None   # or provide a specific path to your dqn_univ3_search\n",
    "action_dim=5\n"
   ]
  },
  {
   "cell_type": "code",
   "execution_count": null,
   "id": "aa93b47b",
   "metadata": {},
   "outputs": [],
   "source": [
    "res1 = best_ppo_rollout(\n",
    "    train_data, train_time_data,\n",
    "    test_data,  test_time_data,\n",
    "    TRAIN_ENV_KW, TEST_ENV_KW,\n",
    "    result_root=\"./result\",                \n",
    "    experiment_dir=None,               \n",
    "    action_dim=5                          \n",
    ")\n",
    "\n",
    "train_result1 = res1[\"train\"][\"dataframe\"]\n",
    "test_result1 = res1[\"test\"][\"dataframe\"]\n",
    "all_result1 = pd.concat([train_result1, test_result1])\n",
    "all_result1"
   ]
  },
  {
   "cell_type": "code",
   "execution_count": null,
   "id": "27790594",
   "metadata": {},
   "outputs": [],
   "source": [
    "t = train_result1[\"time\"]\n",
    "y = train_result1[\"cum_reward\"]\n",
    "a = train_result1[\"allocation_ratio\"]\n",
    "\n",
    "fig = pnl_plot(t, y, a,\n",
    "                top_title=\"Reward Trajectory (Train)\",\n",
    "                bottom_title=\"Action\",\n",
    "                vx=False\n",
    "                )\n",
    "fig.show()\n"
   ]
  },
  {
   "cell_type": "code",
   "execution_count": null,
   "id": "9403bc46",
   "metadata": {},
   "outputs": [],
   "source": [
    "t = test_result1[\"time\"]\n",
    "y = test_result1[\"cum_reward\"]\n",
    "a = test_result1[\"allocation_ratio\"]\n",
    "\n",
    "fig = pnl_plot(t, y, a,\n",
    "                top_title=\"Reward Trajectory (Test)\",\n",
    "                bottom_title=\"Action\",\n",
    "                vx=False\n",
    "                )\n",
    "fig.show()\n"
   ]
  },
  {
   "cell_type": "code",
   "execution_count": null,
   "id": "df7266b7",
   "metadata": {},
   "outputs": [],
   "source": [
    "t = all_result1[\"time\"]\n",
    "y = all_result1[\"step_reward\"].cumsum()\n",
    "a = all_result1[\"allocation_ratio\"]\n",
    "\n",
    "fig = pnl_plot(t, y, a,\n",
    "                top_title=\"Reward Trajectory (All)\",\n",
    "                bottom_title=\"Action\"\n",
    "                )\n",
    "fig.show()\n"
   ]
  },
  {
   "cell_type": "markdown",
   "id": "524cc822",
   "metadata": {},
   "source": [
    "## 2. Essential Features and Microstructure Features"
   ]
  },
  {
   "cell_type": "code",
   "execution_count": null,
   "id": "707cbc4f",
   "metadata": {},
   "outputs": [],
   "source": [
    "# Extract numeric features for the environment (excluding time column)\n",
    "numeric_data = data[ESSENTIAL_FEATURES+MICROSTRUCTURE_FEATURES].values\n",
    "time_data = data[[\"time\"]].values\n",
    "print(f\"\\nNumeric data shape: {numeric_data.shape}\")\n",
    "print(f\"Sample values: {numeric_data[0]}\")\n",
    "\n",
    "TRAIN_TEST_RATIO = 0.8\n",
    "TRAIN_TEST_SPLIT_POINT = int(numeric_data.shape[0] * 0.8)\n",
    "\n",
    "train_data = numeric_data[:TRAIN_TEST_SPLIT_POINT]\n",
    "train_time_data = time_data[:TRAIN_TEST_SPLIT_POINT]\n",
    "print(f\"\\nTest data shape: {train_data.shape}\")\n",
    "print(f\"Sample values: {numeric_data[0]}\")\n",
    "\n",
    "test_data = numeric_data[TRAIN_TEST_SPLIT_POINT:]\n",
    "test_time_data = time_data[TRAIN_TEST_SPLIT_POINT:]\n",
    "print(f\"\\nTrain data shape: {test_data.shape}\")\n",
    "print(f\"Sample values: {numeric_data[0]}\")"
   ]
  },
  {
   "cell_type": "code",
   "execution_count": null,
   "id": "e510f287",
   "metadata": {},
   "outputs": [],
   "source": [
    "TRAIN_ENV_KW = {\n",
    "    \"total_liquidity\": 1e17,\n",
    "    \"gas_cost\": 5.0,\n",
    "    \"fee_tier\": 0.0005,\n",
    "    \"max_steps\": train_data.shape[0],\n",
    "    \"start_index\": 0\n",
    "}\n",
    "\n",
    "num_samples=20\n",
    "experiment_name=\"ppo_univ3_search_2\"\n",
    "storage_root=\"./ray_results\""
   ]
  },
  {
   "cell_type": "code",
   "execution_count": null,
   "id": "3622ebdc",
   "metadata": {},
   "outputs": [],
   "source": [
    "results, best = tune_ppo_with_ray(\n",
    "    train_data=train_data,\n",
    "    train_time_data=train_time_data,\n",
    "    TRAIN_ENV_KW=TRAIN_ENV_KW,\n",
    "    num_samples=num_samples,                             \n",
    "    experiment_name=experiment_name,          \n",
    "    storage_root=storage_root,             \n",
    "    param_space=None                           \n",
    ")"
   ]
  },
  {
   "cell_type": "code",
   "execution_count": null,
   "id": "85c3b40f",
   "metadata": {},
   "outputs": [],
   "source": [
    "TRAIN_ENV_KW = {\n",
    "    \"total_liquidity\": 1e17,\n",
    "    \"gas_cost\": 5.0,\n",
    "    \"fee_tier\": 0.0005,\n",
    "    \"max_steps\": train_data.shape[0],   # your env uses max_steps (not max_step)\n",
    "    \"start_index\": 0\n",
    "}\n",
    "\n",
    "TEST_ENV_KW = {\n",
    "    \"total_liquidity\": 1e17,\n",
    "    \"gas_cost\": 5.0,\n",
    "    \"fee_tier\": 0.0005,\n",
    "    \"max_steps\": test_data.shape[0],\n",
    "    \"start_index\": 0\n",
    "}\n",
    "\n",
    "result_root=\"./result\"\n",
    "experiment_dir=None   # or provide a specific path to your dqn_univ3_search\n",
    "action_dim=5\n"
   ]
  },
  {
   "cell_type": "code",
   "execution_count": null,
   "id": "991f4b3e",
   "metadata": {},
   "outputs": [],
   "source": [
    "res2 = best_ppo_rollout(\n",
    "    train_data, train_time_data,\n",
    "    test_data,  test_time_data,\n",
    "    TRAIN_ENV_KW, TEST_ENV_KW,\n",
    "    result_root=\"./result\",                \n",
    "    experiment_dir=None,               \n",
    "    action_dim=5                          \n",
    ")\n",
    "\n",
    "train_result2 = res2[\"train\"][\"dataframe\"]\n",
    "test_result2 = res2[\"test\"][\"dataframe\"]\n",
    "all_result2 = pd.concat([train_result2, test_result2])\n",
    "all_result2"
   ]
  },
  {
   "cell_type": "code",
   "execution_count": null,
   "id": "3c858e2d",
   "metadata": {},
   "outputs": [],
   "source": [
    "t = train_result2[\"time\"]\n",
    "y = train_result2[\"cum_reward\"]\n",
    "a = train_result2[\"allocation_ratio\"]\n",
    "\n",
    "fig = pnl_plot(t, y, a,\n",
    "                top_title=\"Reward Trajectory (Train)\",\n",
    "                bottom_title=\"Action\",\n",
    "                vx=False\n",
    "                )\n",
    "fig.show()\n"
   ]
  },
  {
   "cell_type": "code",
   "execution_count": null,
   "id": "279b92e6",
   "metadata": {},
   "outputs": [],
   "source": [
    "t = test_result2[\"time\"]\n",
    "y = test_result2[\"cum_reward\"]\n",
    "a = test_result2[\"allocation_ratio\"]\n",
    "\n",
    "fig = pnl_plot(t, y, a,\n",
    "                top_title=\"Reward Trajectory (Test)\",\n",
    "                bottom_title=\"Action\",\n",
    "                vx=False\n",
    "                )\n",
    "fig.show()\n"
   ]
  },
  {
   "cell_type": "code",
   "execution_count": null,
   "id": "e1229f7c",
   "metadata": {},
   "outputs": [],
   "source": [
    "t = all_result2[\"time\"]\n",
    "y = all_result2[\"step_reward\"].cumsum()\n",
    "a = all_result2[\"allocation_ratio\"]\n",
    "\n",
    "fig = pnl_plot(t, y, a,\n",
    "                top_title=\"Reward Trajectory (All)\",\n",
    "                bottom_title=\"Action\"\n",
    "                )\n",
    "fig.show()\n"
   ]
  },
  {
   "cell_type": "markdown",
   "id": "68d6a905",
   "metadata": {},
   "source": [
    "## 3. Essential Features, Microstructure Features and Technical Features"
   ]
  },
  {
   "cell_type": "code",
   "execution_count": null,
   "id": "3280f2d6",
   "metadata": {},
   "outputs": [],
   "source": [
    "# Extract numeric features for the environment (excluding time column)\n",
    "numeric_data = data[ESSENTIAL_FEATURES+MICROSTRUCTURE_FEATURES+TECHNICAL_FEATURES].values\n",
    "time_data = data[[\"time\"]].values\n",
    "print(f\"\\nNumeric data shape: {numeric_data.shape}\")\n",
    "print(f\"Sample values: {numeric_data[0]}\")\n",
    "\n",
    "TRAIN_TEST_RATIO = 0.8\n",
    "TRAIN_TEST_SPLIT_POINT = int(numeric_data.shape[0] * 0.8)\n",
    "\n",
    "train_data = numeric_data[:TRAIN_TEST_SPLIT_POINT]\n",
    "train_time_data = time_data[:TRAIN_TEST_SPLIT_POINT]\n",
    "print(f\"\\nTest data shape: {train_data.shape}\")\n",
    "print(f\"Sample values: {numeric_data[0]}\")\n",
    "\n",
    "test_data = numeric_data[TRAIN_TEST_SPLIT_POINT:]\n",
    "test_time_data = time_data[TRAIN_TEST_SPLIT_POINT:]\n",
    "print(f\"\\nTrain data shape: {test_data.shape}\")\n",
    "print(f\"Sample values: {numeric_data[0]}\")"
   ]
  },
  {
   "cell_type": "code",
   "execution_count": null,
   "id": "aa606564",
   "metadata": {},
   "outputs": [],
   "source": [
    "TRAIN_ENV_KW = {\n",
    "    \"total_liquidity\": 1e17,\n",
    "    \"gas_cost\": 5.0,\n",
    "    \"fee_tier\": 0.0005,\n",
    "    \"max_steps\": train_data.shape[0],\n",
    "    \"start_index\": 0\n",
    "}\n",
    "\n",
    "num_samples=20\n",
    "experiment_name=\"ppo_univ3_search_3\"\n",
    "storage_root=\"./ray_results\""
   ]
  },
  {
   "cell_type": "code",
   "execution_count": null,
   "id": "105aee92",
   "metadata": {},
   "outputs": [],
   "source": [
    "results, best = tune_ppo_with_ray(\n",
    "    train_data=train_data,\n",
    "    train_time_data=train_time_data,\n",
    "    TRAIN_ENV_KW=TRAIN_ENV_KW,\n",
    "    num_samples=num_samples,                             \n",
    "    experiment_name=experiment_name,          \n",
    "    storage_root=storage_root,             \n",
    "    param_space=None                           \n",
    ")"
   ]
  },
  {
   "cell_type": "code",
   "execution_count": null,
   "id": "73ef2eef",
   "metadata": {},
   "outputs": [],
   "source": [
    "TRAIN_ENV_KW = {\n",
    "    \"total_liquidity\": 1e17,\n",
    "    \"gas_cost\": 5.0,\n",
    "    \"fee_tier\": 0.0005,\n",
    "    \"max_steps\": train_data.shape[0],   # your env uses max_steps (not max_step)\n",
    "    \"start_index\": 0\n",
    "}\n",
    "\n",
    "TEST_ENV_KW = {\n",
    "    \"total_liquidity\": 1e17,\n",
    "    \"gas_cost\": 5.0,\n",
    "    \"fee_tier\": 0.0005,\n",
    "    \"max_steps\": test_data.shape[0],\n",
    "    \"start_index\": 0\n",
    "}\n",
    "\n",
    "result_root=\"./result\"\n",
    "experiment_dir=None   # or provide a specific path to your dqn_univ3_search\n",
    "action_dim=5\n"
   ]
  },
  {
   "cell_type": "code",
   "execution_count": null,
   "id": "fa9d7dfc",
   "metadata": {},
   "outputs": [],
   "source": [
    "res3 = best_ppo_rollout(\n",
    "    train_data, train_time_data,\n",
    "    test_data,  test_time_data,\n",
    "    TRAIN_ENV_KW, TEST_ENV_KW,\n",
    "    result_root=\"./result\",                \n",
    "    experiment_dir=None,               \n",
    "    action_dim=5                          \n",
    ")\n",
    "\n",
    "train_result3 = res3[\"train\"][\"dataframe\"]\n",
    "test_result3 = res3[\"test\"][\"dataframe\"]\n",
    "all_result3 = pd.concat([train_result3, test_result3])\n",
    "all_result3"
   ]
  },
  {
   "cell_type": "code",
   "execution_count": null,
   "id": "2069b638",
   "metadata": {},
   "outputs": [],
   "source": [
    "t = train_result3[\"time\"]\n",
    "y = train_result3[\"cum_reward\"]\n",
    "a = train_result3[\"allocation_ratio\"]\n",
    "\n",
    "fig = pnl_plot(t, y, a,\n",
    "                top_title=\"Reward Trajectory (Train)\",\n",
    "                bottom_title=\"Action\",\n",
    "                vx=False\n",
    "                )\n",
    "fig.show()\n"
   ]
  },
  {
   "cell_type": "code",
   "execution_count": null,
   "id": "49e70b80",
   "metadata": {},
   "outputs": [],
   "source": [
    "t = test_result3[\"time\"]\n",
    "y = test_result3[\"cum_reward\"]\n",
    "a = test_result3[\"allocation_ratio\"]\n",
    "\n",
    "fig = pnl_plot(t, y, a,\n",
    "                top_title=\"Reward Trajectory (Test)\",\n",
    "                bottom_title=\"Action\",\n",
    "                vx=False\n",
    "                )\n",
    "fig.show()\n"
   ]
  },
  {
   "cell_type": "code",
   "execution_count": null,
   "id": "95c91211",
   "metadata": {},
   "outputs": [],
   "source": [
    "t = all_result3[\"time\"]\n",
    "y = all_result3[\"step_reward\"].cumsum()\n",
    "a = all_result3[\"allocation_ratio\"]\n",
    "\n",
    "fig = pnl_plot(t, y, a,\n",
    "                top_title=\"Reward Trajectory (All)\",\n",
    "                bottom_title=\"Action\"\n",
    "                )\n",
    "fig.show()\n"
   ]
  },
  {
   "cell_type": "markdown",
   "id": "d236ee90",
   "metadata": {},
   "source": [
    "## 4. Essential Features and Regime Label Based on Microstructure Features"
   ]
  },
  {
   "cell_type": "code",
   "execution_count": null,
   "id": "43d48f05",
   "metadata": {},
   "outputs": [],
   "source": [
    "# Extract numeric features for the environment (excluding time column)\n",
    "numeric_data = data[ESSENTIAL_FEATURES+REGIME_LABEL_BASED_ON_MICROSTURCTURE_FEATURES].values\n",
    "time_data = data[[\"time\"]].values\n",
    "print(f\"\\nNumeric data shape: {numeric_data.shape}\")\n",
    "print(f\"Sample values: {numeric_data[0]}\")\n",
    "\n",
    "TRAIN_TEST_RATIO = 0.8\n",
    "TRAIN_TEST_SPLIT_POINT = int(numeric_data.shape[0] * 0.8)\n",
    "\n",
    "train_data = numeric_data[:TRAIN_TEST_SPLIT_POINT]\n",
    "train_time_data = time_data[:TRAIN_TEST_SPLIT_POINT]\n",
    "print(f\"\\nTest data shape: {train_data.shape}\")\n",
    "print(f\"Sample values: {numeric_data[0]}\")\n",
    "\n",
    "test_data = numeric_data[TRAIN_TEST_SPLIT_POINT:]\n",
    "test_time_data = time_data[TRAIN_TEST_SPLIT_POINT:]\n",
    "print(f\"\\nTrain data shape: {test_data.shape}\")\n",
    "print(f\"Sample values: {numeric_data[0]}\")"
   ]
  },
  {
   "cell_type": "code",
   "execution_count": null,
   "id": "6702f69d",
   "metadata": {},
   "outputs": [],
   "source": [
    "TRAIN_ENV_KW = {\n",
    "    \"total_liquidity\": 1e17,\n",
    "    \"gas_cost\": 5.0,\n",
    "    \"fee_tier\": 0.0005,\n",
    "    \"max_steps\": train_data.shape[0],\n",
    "    \"start_index\": 0\n",
    "}\n",
    "\n",
    "num_samples=20\n",
    "experiment_name=\"ppo_univ3_search_4\"\n",
    "storage_root=\"./ray_results\""
   ]
  },
  {
   "cell_type": "code",
   "execution_count": null,
   "id": "3fc6e291",
   "metadata": {},
   "outputs": [],
   "source": [
    "results, best = tune_ppo_with_ray(\n",
    "    train_data=train_data,\n",
    "    train_time_data=train_time_data,\n",
    "    TRAIN_ENV_KW=TRAIN_ENV_KW,\n",
    "    num_samples=num_samples,                             \n",
    "    experiment_name=experiment_name,          \n",
    "    storage_root=storage_root,             \n",
    "    param_space=None                           \n",
    ")"
   ]
  },
  {
   "cell_type": "code",
   "execution_count": null,
   "id": "94bf0311",
   "metadata": {},
   "outputs": [],
   "source": [
    "TRAIN_ENV_KW = {\n",
    "    \"total_liquidity\": 1e17,\n",
    "    \"gas_cost\": 5.0,\n",
    "    \"fee_tier\": 0.0005,\n",
    "    \"max_steps\": train_data.shape[0],   # your env uses max_steps (not max_step)\n",
    "    \"start_index\": 0\n",
    "}\n",
    "\n",
    "TEST_ENV_KW = {\n",
    "    \"total_liquidity\": 1e17,\n",
    "    \"gas_cost\": 5.0,\n",
    "    \"fee_tier\": 0.0005,\n",
    "    \"max_steps\": test_data.shape[0],\n",
    "    \"start_index\": 0\n",
    "}\n",
    "\n",
    "result_root=\"./result\"\n",
    "experiment_dir=None   # or provide a specific path to your dqn_univ3_search\n",
    "action_dim=5\n"
   ]
  },
  {
   "cell_type": "code",
   "execution_count": null,
   "id": "b9074cf5",
   "metadata": {},
   "outputs": [],
   "source": [
    "res4 = best_ppo_rollout(\n",
    "    train_data, train_time_data,\n",
    "    test_data,  test_time_data,\n",
    "    TRAIN_ENV_KW, TEST_ENV_KW,\n",
    "    result_root=\"./result\",                \n",
    "    experiment_dir=None,               \n",
    "    action_dim=5                          \n",
    ")\n",
    "\n",
    "train_result4 = res4[\"train\"][\"dataframe\"]\n",
    "test_result4 = res4[\"test\"][\"dataframe\"]\n",
    "all_result4 = pd.concat([train_result4, test_result4])\n",
    "all_result4"
   ]
  },
  {
   "cell_type": "code",
   "execution_count": null,
   "id": "f389f69e",
   "metadata": {},
   "outputs": [],
   "source": [
    "t = train_result4[\"time\"]\n",
    "y = train_result4[\"cum_reward\"]\n",
    "a = train_result4[\"allocation_ratio\"]\n",
    "\n",
    "fig = pnl_plot(t, y, a,\n",
    "                top_title=\"Reward Trajectory (Train)\",\n",
    "                bottom_title=\"Action\",\n",
    "                vx=False\n",
    "                )\n",
    "fig.show()\n"
   ]
  },
  {
   "cell_type": "code",
   "execution_count": null,
   "id": "c4623d47",
   "metadata": {},
   "outputs": [],
   "source": [
    "t = test_result4[\"time\"]\n",
    "y = test_result4[\"cum_reward\"]\n",
    "a = test_result4[\"allocation_ratio\"]\n",
    "\n",
    "fig = pnl_plot(t, y, a,\n",
    "                top_title=\"Reward Trajectory (Test)\",\n",
    "                bottom_title=\"Action\",\n",
    "                vx=False\n",
    "                )\n",
    "fig.show()\n"
   ]
  },
  {
   "cell_type": "code",
   "execution_count": null,
   "id": "7a099a80",
   "metadata": {},
   "outputs": [],
   "source": [
    "t = all_result4[\"time\"]\n",
    "y = all_result4[\"step_reward\"].cumsum()\n",
    "a = all_result4[\"allocation_ratio\"]\n",
    "\n",
    "fig = pnl_plot(t, y, a,\n",
    "                top_title=\"Reward Trajectory (All)\",\n",
    "                bottom_title=\"Action\"\n",
    "                )\n",
    "fig.show()\n"
   ]
  },
  {
   "cell_type": "markdown",
   "id": "68200fff",
   "metadata": {},
   "source": [
    "## 5. Essential Features and Regime Label Based on All Features"
   ]
  },
  {
   "cell_type": "code",
   "execution_count": null,
   "id": "6e5e06c8",
   "metadata": {},
   "outputs": [],
   "source": [
    "# Extract numeric features for the environment (excluding time column)\n",
    "numeric_data = data[ESSENTIAL_FEATURES+REGIME_LABEL_BASED_ON_ALL_FEATURES].values\n",
    "time_data = data[[\"time\"]].values\n",
    "print(f\"\\nNumeric data shape: {numeric_data.shape}\")\n",
    "print(f\"Sample values: {numeric_data[0]}\")\n",
    "\n",
    "TRAIN_TEST_RATIO = 0.8\n",
    "TRAIN_TEST_SPLIT_POINT = int(numeric_data.shape[0] * 0.8)\n",
    "\n",
    "train_data = numeric_data[:TRAIN_TEST_SPLIT_POINT]\n",
    "train_time_data = time_data[:TRAIN_TEST_SPLIT_POINT]\n",
    "print(f\"\\nTest data shape: {train_data.shape}\")\n",
    "print(f\"Sample values: {numeric_data[0]}\")\n",
    "\n",
    "test_data = numeric_data[TRAIN_TEST_SPLIT_POINT:]\n",
    "test_time_data = time_data[TRAIN_TEST_SPLIT_POINT:]\n",
    "print(f\"\\nTrain data shape: {test_data.shape}\")\n",
    "print(f\"Sample values: {numeric_data[0]}\")"
   ]
  },
  {
   "cell_type": "code",
   "execution_count": null,
   "id": "c7ef0f15",
   "metadata": {},
   "outputs": [],
   "source": [
    "TRAIN_ENV_KW = {\n",
    "    \"total_liquidity\": 1e17,\n",
    "    \"gas_cost\": 5.0,\n",
    "    \"fee_tier\": 0.0005,\n",
    "    \"max_steps\": train_data.shape[0],\n",
    "    \"start_index\": 0\n",
    "}\n",
    "\n",
    "num_samples=20\n",
    "experiment_name=\"ppo_univ3_search_5\"\n",
    "storage_root=\"./ray_results\""
   ]
  },
  {
   "cell_type": "code",
   "execution_count": null,
   "id": "36578148",
   "metadata": {},
   "outputs": [],
   "source": [
    "results, best = tune_ppo_with_ray(\n",
    "    train_data=train_data,\n",
    "    train_time_data=train_time_data,\n",
    "    TRAIN_ENV_KW=TRAIN_ENV_KW,\n",
    "    num_samples=num_samples,                             \n",
    "    experiment_name=experiment_name,          \n",
    "    storage_root=storage_root,             \n",
    "    param_space=None                           \n",
    ")"
   ]
  },
  {
   "cell_type": "code",
   "execution_count": null,
   "id": "819c45dd",
   "metadata": {},
   "outputs": [],
   "source": [
    "TRAIN_ENV_KW = {\n",
    "    \"total_liquidity\": 1e17,\n",
    "    \"gas_cost\": 5.0,\n",
    "    \"fee_tier\": 0.0005,\n",
    "    \"max_steps\": train_data.shape[0],   # your env uses max_steps (not max_step)\n",
    "    \"start_index\": 0\n",
    "}\n",
    "\n",
    "TEST_ENV_KW = {\n",
    "    \"total_liquidity\": 1e17,\n",
    "    \"gas_cost\": 5.0,\n",
    "    \"fee_tier\": 0.0005,\n",
    "    \"max_steps\": test_data.shape[0],\n",
    "    \"start_index\": 0\n",
    "}\n",
    "\n",
    "result_root=\"./result\"\n",
    "experiment_dir=None   # or provide a specific path to your dqn_univ3_search\n",
    "action_dim=5\n"
   ]
  },
  {
   "cell_type": "code",
   "execution_count": null,
   "id": "ade75980",
   "metadata": {},
   "outputs": [],
   "source": [
    "res5 = best_ppo_rollout(\n",
    "    train_data, train_time_data,\n",
    "    test_data,  test_time_data,\n",
    "    TRAIN_ENV_KW, TEST_ENV_KW,\n",
    "    result_root=\"./result\",                \n",
    "    experiment_dir=None,               \n",
    "    action_dim=5                          \n",
    ")\n",
    "\n",
    "train_result5 = res5[\"train\"][\"dataframe\"]\n",
    "test_result5 = res5[\"test\"][\"dataframe\"]\n",
    "all_result5 = pd.concat([train_result5, test_result5])\n",
    "all_result5"
   ]
  },
  {
   "cell_type": "code",
   "execution_count": null,
   "id": "80c2189d",
   "metadata": {},
   "outputs": [],
   "source": [
    "t = train_result5[\"time\"]\n",
    "y = train_result5[\"cum_reward\"]\n",
    "a = train_result5[\"allocation_ratio\"]\n",
    "\n",
    "fig = pnl_plot(t, y, a,\n",
    "                top_title=\"Reward Trajectory (Train)\",\n",
    "                bottom_title=\"Action\",\n",
    "                vx=False\n",
    "                )\n",
    "fig.show()\n"
   ]
  },
  {
   "cell_type": "code",
   "execution_count": null,
   "id": "af7550d9",
   "metadata": {},
   "outputs": [],
   "source": [
    "t = test_result5[\"time\"]\n",
    "y = test_result5[\"step_reward\"].cumsum()\n",
    "a = test_result5[\"allocation_ratio\"]\n",
    "\n",
    "fig = pnl_plot(t, y, a,\n",
    "                top_title=\"Reward Trajectory (Test)\",\n",
    "                bottom_title=\"Action\",\n",
    "                vx=False\n",
    "                )\n",
    "fig.show()\n"
   ]
  },
  {
   "cell_type": "code",
   "execution_count": null,
   "id": "ca038ae0",
   "metadata": {},
   "outputs": [],
   "source": [
    "t = all_result5[\"time\"]\n",
    "y = all_result5[\"step_reward\"].cumsum()\n",
    "a = all_result5[\"allocation_ratio\"]\n",
    "\n",
    "fig = pnl_plot(t, y, a,\n",
    "                top_title=\"Reward Trajectory (All)\",\n",
    "                bottom_title=\"Action\"\n",
    "                )\n",
    "fig.show()\n"
   ]
  },
  {
   "cell_type": "markdown",
   "id": "47f7d627",
   "metadata": {},
   "source": [
    "## "
   ]
  }
 ],
 "metadata": {
  "kernelspec": {
   "display_name": "elrl",
   "language": "python",
   "name": "python3"
  },
  "language_info": {
   "codemirror_mode": {
    "name": "ipython",
    "version": 3
   },
   "file_extension": ".py",
   "mimetype": "text/x-python",
   "name": "python",
   "nbconvert_exporter": "python",
   "pygments_lexer": "ipython3",
   "version": "3.10.15"
  }
 },
 "nbformat": 4,
 "nbformat_minor": 5
}
