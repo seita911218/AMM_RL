{
 "cells": [
  {
   "cell_type": "markdown",
   "id": "a4af9253",
   "metadata": {},
   "source": [
    "# Import Packages"
   ]
  },
  {
   "cell_type": "code",
   "execution_count": null,
   "id": "c6390f90",
   "metadata": {},
   "outputs": [],
   "source": [
    "import pandas as pd\n",
    "import numpy as np\n",
    "import sys\n",
    "import os\n",
    "import torch\n",
    "\n",
    "# Add parent directory to path for imports\n",
    "parent_dir = os.path.dirname(os.path.dirname(os.path.abspath('__file__')))\n",
    "sys.path.append(parent_dir)\n",
    "\n",
    "# Import ElegantRL components\n",
    "from elegantrl.agents.AgentPPO import AgentPPO\n",
    "from elegantrl.agents.AgentDQN import AgentDQN\n",
    "from elegantrl.train.config import Config\n",
    "from elegantrl.train.run import train_agent\n",
    "\n",
    "# Import our custom environment from utils\n",
    "from utils.env import UniswapV3LiquidityEnv\n",
    "from utils.tune import tune_dqn_with_ray\n",
    "from utils.eval import best_dqn_rollout\n",
    "from utils.visualize import pnl_plot\n",
    "\n",
    "print(\"✅ All imports successful!\")\n",
    "print(f\"PyTorch version: {torch.__version__}\")\n",
    "print(f\"Device: {'CUDA' if torch.cuda.is_available() else 'CPU'}\")\n",
    "print(f\"Parent directory added: {parent_dir}\")"
   ]
  },
  {
   "cell_type": "markdown",
   "id": "7db52d32",
   "metadata": {},
   "source": [
    "# Loading Data"
   ]
  },
  {
   "cell_type": "code",
   "execution_count": null,
   "id": "ec995ac3",
   "metadata": {},
   "outputs": [],
   "source": [
    "# Load and prepare data\n",
    "data_path = \"../data/organized_hourly_data.csv\"\n",
    "data = pd.read_csv(data_path)\n",
    "\n",
    "print(f\"Data shape: {data.shape}\")\n",
    "print(f\"Data columns: {data.columns.tolist()}\")\n",
    "print(\"\\nFirst few rows:\")\n",
    "print(data.head())\n",
    "\n",
    "ESSENTIAL_FEATURES = ['closed_price', 'scaled_volume_WETH', 'scaled_volume_USDC']\n",
    "MICROSTRUCTURE_FEATURES = ['volume_imbalance', 'scaled_total_volume', 'n_swap', 'interval_swap', 'liquidity', 'tick', 'R_ewma', 'volatility_ewm']\n",
    "TECHNICAL_FEATURES = ['ma24', 'ma168', 'bb_upper', 'bb_middle', 'bb_lower', 'adxr', 'dx', 'n_mb']\n",
    "REGIME_LABEL_BASED_ON_MICROSTURCTURE_FEATURES = []\n",
    "REGIME_LABEL_BASED_ON_ALL_FEATURES = []\n",
    "\n",
    "print(f\"\\nEssentail Features: {ESSENTIAL_FEATURES}\")\n",
    "print(f\"Microstructure Features: {MICROSTRUCTURE_FEATURES}\")\n",
    "print(f\"Technical Features: {TECHNICAL_FEATURES}\")"
   ]
  },
  {
   "cell_type": "markdown",
   "id": "d5150cb8",
   "metadata": {},
   "source": [
    "## 1. Essential Features"
   ]
  },
  {
   "cell_type": "code",
   "execution_count": null,
   "id": "a9d813ff",
   "metadata": {},
   "outputs": [],
   "source": [
    "# Extract numeric features for the environment (excluding time column)\n",
    "numeric_data = data[ESSENTIAL_FEATURES].values\n",
    "time_data = data[[\"time\"]].values\n",
    "print(f\"\\nNumeric data shape: {numeric_data.shape}\")\n",
    "print(f\"Sample values: {numeric_data[0]}\")\n",
    "\n",
    "TRAIN_TEST_RATIO = 0.8\n",
    "TRAIN_TEST_SPLIT_POINT = int(numeric_data.shape[0] * 0.8)\n",
    "\n",
    "train_data = numeric_data[:TRAIN_TEST_SPLIT_POINT]\n",
    "train_time_data = time_data[:TRAIN_TEST_SPLIT_POINT]\n",
    "print(f\"\\nTest data shape: {train_data.shape}\")\n",
    "print(f\"Sample values: {numeric_data[0]}\")\n",
    "\n",
    "test_data = numeric_data[TRAIN_TEST_SPLIT_POINT:]\n",
    "test_time_data = time_data[TRAIN_TEST_SPLIT_POINT:]\n",
    "print(f\"\\nTrain data shape: {test_data.shape}\")\n",
    "print(f\"Sample values: {numeric_data[0]}\")"
   ]
  },
  {
   "cell_type": "code",
   "execution_count": null,
   "id": "de393351",
   "metadata": {},
   "outputs": [],
   "source": [
    "TRAIN_ENV_KW = {\n",
    "    \"total_liquidity\": 1e17,\n",
    "    \"gas_cost\": 5.0,\n",
    "    \"fee_tier\": 0.0005,\n",
    "    \"max_steps\": train_data.shape[0],   # your env uses max_steps (not max_step)\n",
    "    \"start_index\": 0\n",
    "}\n",
    "\n",
    "num_samples=20\n",
    "experiment_name=\"dqn_univ3_search_1\"\n",
    "storage_root=\"./ray_results\"\n"
   ]
  },
  {
   "cell_type": "code",
   "execution_count": null,
   "id": "bd9fe3de",
   "metadata": {},
   "outputs": [],
   "source": [
    "results, best = tune_dqn_with_ray(train_data, train_time_data, TRAIN_ENV_KW,\n",
    "                                  num_samples=num_samples,\n",
    "                                  experiment_name=experiment_name,\n",
    "                                  storage_root=storage_root)\n"
   ]
  },
  {
   "cell_type": "code",
   "execution_count": null,
   "id": "43d05467",
   "metadata": {},
   "outputs": [],
   "source": [
    "TRAIN_ENV_KW = {\n",
    "    \"total_liquidity\": 1e17,\n",
    "    \"gas_cost\": 5.0,\n",
    "    \"fee_tier\": 0.0005,\n",
    "    \"max_steps\": train_data.shape[0],   # your env uses max_steps (not max_step)\n",
    "    \"start_index\": 0\n",
    "}\n",
    "\n",
    "TEST_ENV_KW = {\n",
    "    \"total_liquidity\": 1e17,\n",
    "    \"gas_cost\": 5.0,\n",
    "    \"fee_tier\": 0.0005,\n",
    "    \"max_steps\": test_data.shape[0],\n",
    "    \"start_index\": 0\n",
    "}\n",
    "\n",
    "result_root=\"./result\"\n",
    "experiment_dir=None   # or provide a specific path to your dqn_univ3_search\n",
    "action_dim=5\n"
   ]
  },
  {
   "cell_type": "code",
   "execution_count": null,
   "id": "f290ed6c",
   "metadata": {},
   "outputs": [],
   "source": [
    "res1 = best_dqn_rollout(\n",
    "    train_data, train_time_data,\n",
    "    test_data,  test_time_data,\n",
    "    TRAIN_ENV_KW, TEST_ENV_KW,\n",
    "    result_root=result_root,\n",
    "    experiment_dir=experiment_dir,   # or provide a specific path to your dqn_univ3_search\n",
    "    action_dim=action_dim,\n",
    ")\n",
    "\n",
    "train_result1 = res1[\"train\"][\"dataframe\"]\n",
    "test_result1 = res1[\"test\"][\"dataframe\"]\n",
    "all_result1 = pd.concat([train_result1, test_result1])\n",
    "all_result1"
   ]
  },
  {
   "cell_type": "code",
   "execution_count": null,
   "id": "1ab9155b",
   "metadata": {},
   "outputs": [],
   "source": [
    "t = train_result1[\"time\"]\n",
    "y = train_result1[\"cum_reward\"]\n",
    "a = train_result1[\"allocation_ratio\"]\n",
    "\n",
    "fig = pnl_plot(t, y, a,\n",
    "                top_title=\"Reward Trajectory (Train)\",\n",
    "                bottom_title=\"Action\",\n",
    "                vx=False\n",
    "                )\n",
    "fig.show()\n"
   ]
  },
  {
   "cell_type": "code",
   "execution_count": null,
   "id": "33b63384",
   "metadata": {},
   "outputs": [],
   "source": [
    "t = test_result1[\"time\"]\n",
    "y = test_result1[\"cum_reward\"]\n",
    "a = test_result1[\"allocation_ratio\"]\n",
    "\n",
    "fig = pnl_plot(t, y, a,\n",
    "                top_title=\"Reward Trajectory (Test)\",\n",
    "                bottom_title=\"Action\",\n",
    "                vx=False\n",
    "                )\n",
    "fig.show()\n"
   ]
  },
  {
   "cell_type": "code",
   "execution_count": null,
   "id": "859fa939",
   "metadata": {},
   "outputs": [],
   "source": [
    "t = all_result1[\"time\"]\n",
    "y = all_result1[\"step_reward\"].cumsum()\n",
    "a = all_result1[\"allocation_ratio\"]\n",
    "\n",
    "fig = pnl_plot(t, y, a,\n",
    "                top_title=\"Reward Trajectory (All)\",\n",
    "                bottom_title=\"Action\"\n",
    "                )\n",
    "fig.show()\n"
   ]
  },
  {
   "cell_type": "markdown",
   "id": "51200f4b",
   "metadata": {},
   "source": [
    "## 2. Essential Features and Microstructure Features"
   ]
  },
  {
   "cell_type": "code",
   "execution_count": null,
   "id": "77b77bb4",
   "metadata": {},
   "outputs": [],
   "source": [
    "# Extract numeric features for the environment (excluding time column)\n",
    "numeric_data = data[ESSENTIAL_FEATURES+MICROSTRUCTURE_FEATURES].values\n",
    "time_data = data[[\"time\"]].values\n",
    "print(f\"\\nNumeric data shape: {numeric_data.shape}\")\n",
    "print(f\"Sample values: {numeric_data[0]}\")\n",
    "\n",
    "TRAIN_TEST_RATIO = 0.8\n",
    "TRAIN_TEST_SPLIT_POINT = int(numeric_data.shape[0] * 0.8)\n",
    "\n",
    "train_data = numeric_data[:TRAIN_TEST_SPLIT_POINT]\n",
    "train_time_data = time_data[:TRAIN_TEST_SPLIT_POINT]\n",
    "print(f\"\\nTest data shape: {train_data.shape}\")\n",
    "print(f\"Sample values: {numeric_data[0]}\")\n",
    "\n",
    "test_data = numeric_data[TRAIN_TEST_SPLIT_POINT:]\n",
    "test_time_data = time_data[TRAIN_TEST_SPLIT_POINT:]\n",
    "print(f\"\\nTrain data shape: {test_data.shape}\")\n",
    "print(f\"Sample values: {numeric_data[0]}\")"
   ]
  },
  {
   "cell_type": "code",
   "execution_count": null,
   "id": "f8377491",
   "metadata": {},
   "outputs": [],
   "source": [
    "TRAIN_ENV_KW = {\n",
    "    \"total_liquidity\": 1e17,\n",
    "    \"gas_cost\": 5.0,\n",
    "    \"fee_tier\": 0.0005,\n",
    "    \"max_steps\": train_data.shape[0],\n",
    "    \"start_index\": 0\n",
    "}\n",
    "\n",
    "num_samples=20\n",
    "experiment_name=\"ppo_univ3_search_2\"\n",
    "storage_root=\"./ray_results\""
   ]
  },
  {
   "cell_type": "code",
   "execution_count": null,
   "id": "f9fcea19",
   "metadata": {},
   "outputs": [],
   "source": [
    "results, best = tune_dqn_with_ray(train_data, train_time_data, TRAIN_ENV_KW,\n",
    "                                  num_samples=num_samples,\n",
    "                                  experiment_name=experiment_name,\n",
    "                                  storage_root=storage_root)\n"
   ]
  },
  {
   "cell_type": "code",
   "execution_count": null,
   "id": "72d1dfb0",
   "metadata": {},
   "outputs": [],
   "source": [
    "TRAIN_ENV_KW = {\n",
    "    \"total_liquidity\": 1e17,\n",
    "    \"gas_cost\": 5.0,\n",
    "    \"fee_tier\": 0.0005,\n",
    "    \"max_steps\": train_data.shape[0],   # your env uses max_steps (not max_step)\n",
    "    \"start_index\": 0\n",
    "}\n",
    "\n",
    "TEST_ENV_KW = {\n",
    "    \"total_liquidity\": 1e17,\n",
    "    \"gas_cost\": 5.0,\n",
    "    \"fee_tier\": 0.0005,\n",
    "    \"max_steps\": test_data.shape[0],\n",
    "    \"start_index\": 0\n",
    "}\n",
    "\n",
    "result_root=\"./result\"\n",
    "experiment_dir=None   # or provide a specific path to your dqn_univ3_search\n",
    "action_dim=5\n"
   ]
  },
  {
   "cell_type": "code",
   "execution_count": null,
   "id": "b5a6c747",
   "metadata": {},
   "outputs": [],
   "source": [
    "res2 = best_dqn_rollout(\n",
    "    train_data, train_time_data,\n",
    "    test_data,  test_time_data,\n",
    "    TRAIN_ENV_KW, TEST_ENV_KW,\n",
    "    result_root=result_root,\n",
    "    experiment_dir=experiment_dir,   # or provide a specific path to your dqn_univ3_search\n",
    "    action_dim=action_dim,\n",
    ")\n",
    "\n",
    "train_result2 = res2[\"train\"][\"dataframe\"]\n",
    "test_result2 = res2[\"test\"][\"dataframe\"]\n",
    "all_result2 = pd.concat([train_result2, test_result2])\n",
    "all_result2"
   ]
  },
  {
   "cell_type": "code",
   "execution_count": null,
   "id": "217d7196",
   "metadata": {},
   "outputs": [],
   "source": [
    "t = train_result2[\"time\"]\n",
    "y = train_result2[\"cum_reward\"]\n",
    "a = train_result2[\"allocation_ratio\"]\n",
    "\n",
    "fig = pnl_plot(t, y, a,\n",
    "                top_title=\"Reward Trajectory (Train)\",\n",
    "                bottom_title=\"Action\",\n",
    "                vx=False\n",
    "                )\n",
    "fig.show()\n"
   ]
  },
  {
   "cell_type": "code",
   "execution_count": null,
   "id": "658782d2",
   "metadata": {},
   "outputs": [],
   "source": [
    "t = test_result2[\"time\"]\n",
    "y = test_result2[\"cum_reward\"]\n",
    "a = test_result2[\"allocation_ratio\"]\n",
    "\n",
    "fig = pnl_plot(t, y, a,\n",
    "                top_title=\"Reward Trajectory (Test)\",\n",
    "                bottom_title=\"Action\",\n",
    "                vx=False\n",
    "                )\n",
    "fig.show()\n"
   ]
  },
  {
   "cell_type": "code",
   "execution_count": null,
   "id": "3d444eb5",
   "metadata": {},
   "outputs": [],
   "source": [
    "t = all_result2[\"time\"]\n",
    "y = all_result2[\"step_reward\"].cumsum()\n",
    "a = all_result2[\"allocation_ratio\"]\n",
    "\n",
    "fig = pnl_plot(t, y, a,\n",
    "                top_title=\"Reward Trajectory (All)\",\n",
    "                bottom_title=\"Action\"\n",
    "                )\n",
    "fig.show()\n"
   ]
  },
  {
   "cell_type": "markdown",
   "id": "402e0ac0",
   "metadata": {},
   "source": [
    "## 3. Essential Features, Microstructure Features and Technical Features"
   ]
  },
  {
   "cell_type": "code",
   "execution_count": null,
   "id": "ac0c1ff3",
   "metadata": {},
   "outputs": [],
   "source": [
    "# Extract numeric features for the environment (excluding time column)\n",
    "numeric_data = data[ESSENTIAL_FEATURES+MICROSTRUCTURE_FEATURES+TECHNICAL_FEATURES].values\n",
    "time_data = data[[\"time\"]].values\n",
    "print(f\"\\nNumeric data shape: {numeric_data.shape}\")\n",
    "print(f\"Sample values: {numeric_data[0]}\")\n",
    "\n",
    "TRAIN_TEST_RATIO = 0.8\n",
    "TRAIN_TEST_SPLIT_POINT = int(numeric_data.shape[0] * 0.8)\n",
    "\n",
    "train_data = numeric_data[:TRAIN_TEST_SPLIT_POINT]\n",
    "train_time_data = time_data[:TRAIN_TEST_SPLIT_POINT]\n",
    "print(f\"\\nTest data shape: {train_data.shape}\")\n",
    "print(f\"Sample values: {numeric_data[0]}\")\n",
    "\n",
    "test_data = numeric_data[TRAIN_TEST_SPLIT_POINT:]\n",
    "test_time_data = time_data[TRAIN_TEST_SPLIT_POINT:]\n",
    "print(f\"\\nTrain data shape: {test_data.shape}\")\n",
    "print(f\"Sample values: {numeric_data[0]}\")"
   ]
  },
  {
   "cell_type": "code",
   "execution_count": null,
   "id": "40eb45b3",
   "metadata": {},
   "outputs": [],
   "source": [
    "TRAIN_ENV_KW = {\n",
    "    \"total_liquidity\": 1e17,\n",
    "    \"gas_cost\": 5.0,\n",
    "    \"fee_tier\": 0.0005,\n",
    "    \"max_steps\": train_data.shape[0],\n",
    "    \"start_index\": 0\n",
    "}\n",
    "\n",
    "num_samples=20\n",
    "experiment_name=\"ppo_univ3_search_3\"\n",
    "storage_root=\"./ray_results\""
   ]
  },
  {
   "cell_type": "code",
   "execution_count": null,
   "id": "549dfedb",
   "metadata": {},
   "outputs": [],
   "source": [
    "results, best = tune_dqn_with_ray(train_data, train_time_data, TRAIN_ENV_KW,\n",
    "                                  num_samples=num_samples,\n",
    "                                  experiment_name=experiment_name,\n",
    "                                  storage_root=storage_root)\n"
   ]
  },
  {
   "cell_type": "code",
   "execution_count": null,
   "id": "6dfc9e96",
   "metadata": {},
   "outputs": [],
   "source": [
    "TRAIN_ENV_KW = {\n",
    "    \"total_liquidity\": 1e17,\n",
    "    \"gas_cost\": 5.0,\n",
    "    \"fee_tier\": 0.0005,\n",
    "    \"max_steps\": train_data.shape[0],   # your env uses max_steps (not max_step)\n",
    "    \"start_index\": 0\n",
    "}\n",
    "\n",
    "TEST_ENV_KW = {\n",
    "    \"total_liquidity\": 1e17,\n",
    "    \"gas_cost\": 5.0,\n",
    "    \"fee_tier\": 0.0005,\n",
    "    \"max_steps\": test_data.shape[0],\n",
    "    \"start_index\": 0\n",
    "}\n",
    "\n",
    "result_root=\"./result\"\n",
    "experiment_dir=None   # or provide a specific path to your dqn_univ3_search\n",
    "action_dim=5\n"
   ]
  },
  {
   "cell_type": "code",
   "execution_count": null,
   "id": "0bf8ff19",
   "metadata": {},
   "outputs": [],
   "source": [
    "res3 = best_dqn_rollout(\n",
    "    train_data, train_time_data,\n",
    "    test_data,  test_time_data,\n",
    "    TRAIN_ENV_KW, TEST_ENV_KW,\n",
    "    result_root=result_root,\n",
    "    experiment_dir=experiment_dir,   # or provide a specific path to your dqn_univ3_search\n",
    "    action_dim=action_dim,\n",
    ")\n",
    "\n",
    "train_result3 = res3[\"train\"][\"dataframe\"]\n",
    "test_result3 = res3[\"test\"][\"dataframe\"]\n",
    "all_result3 = pd.concat([train_result3, test_result3])\n",
    "all_result3"
   ]
  },
  {
   "cell_type": "code",
   "execution_count": null,
   "id": "af51e471",
   "metadata": {},
   "outputs": [],
   "source": [
    "t = train_result3[\"time\"]\n",
    "y = train_result3[\"cum_reward\"]\n",
    "a = train_result3[\"allocation_ratio\"]\n",
    "\n",
    "fig = pnl_plot(t, y, a,\n",
    "                top_title=\"Reward Trajectory (Train)\",\n",
    "                bottom_title=\"Action\",\n",
    "                vx=False\n",
    "                )\n",
    "fig.show()\n"
   ]
  },
  {
   "cell_type": "code",
   "execution_count": null,
   "id": "4c0925cc",
   "metadata": {},
   "outputs": [],
   "source": [
    "t = test_result3[\"time\"]\n",
    "y = test_result3[\"cum_reward\"]\n",
    "a = test_result3[\"allocation_ratio\"]\n",
    "\n",
    "fig = pnl_plot(t, y, a,\n",
    "                top_title=\"Reward Trajectory (Test)\",\n",
    "                bottom_title=\"Action\",\n",
    "                vx=False\n",
    "                )\n",
    "fig.show()\n"
   ]
  },
  {
   "cell_type": "code",
   "execution_count": null,
   "id": "a74f4215",
   "metadata": {},
   "outputs": [],
   "source": [
    "t = all_result3[\"time\"]\n",
    "y = all_result3[\"step_reward\"].cumsum()\n",
    "a = all_result3[\"allocation_ratio\"]\n",
    "\n",
    "fig = pnl_plot(t, y, a,\n",
    "                top_title=\"Reward Trajectory (All)\",\n",
    "                bottom_title=\"Action\"\n",
    "                )\n",
    "fig.show()\n"
   ]
  },
  {
   "cell_type": "markdown",
   "id": "d54fe6bc",
   "metadata": {},
   "source": [
    "## 4. Essential Features and Regime Label Based on Microstructure Features"
   ]
  },
  {
   "cell_type": "code",
   "execution_count": null,
   "id": "8004d301",
   "metadata": {},
   "outputs": [],
   "source": [
    "# Extract numeric features for the environment (excluding time column)\n",
    "numeric_data = data[ESSENTIAL_FEATURES+REGIME_LABEL_BASED_ON_MICROSTURCTURE_FEATURES].values\n",
    "time_data = data[[\"time\"]].values\n",
    "print(f\"\\nNumeric data shape: {numeric_data.shape}\")\n",
    "print(f\"Sample values: {numeric_data[0]}\")\n",
    "\n",
    "TRAIN_TEST_RATIO = 0.8\n",
    "TRAIN_TEST_SPLIT_POINT = int(numeric_data.shape[0] * 0.8)\n",
    "\n",
    "train_data = numeric_data[:TRAIN_TEST_SPLIT_POINT]\n",
    "train_time_data = time_data[:TRAIN_TEST_SPLIT_POINT]\n",
    "print(f\"\\nTest data shape: {train_data.shape}\")\n",
    "print(f\"Sample values: {numeric_data[0]}\")\n",
    "\n",
    "test_data = numeric_data[TRAIN_TEST_SPLIT_POINT:]\n",
    "test_time_data = time_data[TRAIN_TEST_SPLIT_POINT:]\n",
    "print(f\"\\nTrain data shape: {test_data.shape}\")\n",
    "print(f\"Sample values: {numeric_data[0]}\")"
   ]
  },
  {
   "cell_type": "code",
   "execution_count": null,
   "id": "2cfe6f75",
   "metadata": {},
   "outputs": [],
   "source": [
    "TRAIN_ENV_KW = {\n",
    "    \"total_liquidity\": 1e17,\n",
    "    \"gas_cost\": 5.0,\n",
    "    \"fee_tier\": 0.0005,\n",
    "    \"max_steps\": train_data.shape[0],\n",
    "    \"start_index\": 0\n",
    "}\n",
    "\n",
    "num_samples=20\n",
    "experiment_name=\"ppo_univ3_search_4\"\n",
    "storage_root=\"./ray_results\""
   ]
  },
  {
   "cell_type": "code",
   "execution_count": null,
   "id": "d47362bd",
   "metadata": {},
   "outputs": [],
   "source": [
    "results, best = tune_dqn_with_ray(train_data, train_time_data, TRAIN_ENV_KW,\n",
    "                                  num_samples=num_samples,\n",
    "                                  experiment_name=experiment_name,\n",
    "                                  storage_root=storage_root)\n"
   ]
  },
  {
   "cell_type": "code",
   "execution_count": null,
   "id": "fe2be44c",
   "metadata": {},
   "outputs": [],
   "source": [
    "TRAIN_ENV_KW = {\n",
    "    \"total_liquidity\": 1e17,\n",
    "    \"gas_cost\": 5.0,\n",
    "    \"fee_tier\": 0.0005,\n",
    "    \"max_steps\": train_data.shape[0],   # your env uses max_steps (not max_step)\n",
    "    \"start_index\": 0\n",
    "}\n",
    "\n",
    "TEST_ENV_KW = {\n",
    "    \"total_liquidity\": 1e17,\n",
    "    \"gas_cost\": 5.0,\n",
    "    \"fee_tier\": 0.0005,\n",
    "    \"max_steps\": test_data.shape[0],\n",
    "    \"start_index\": 0\n",
    "}\n",
    "\n",
    "result_root=\"./result\"\n",
    "experiment_dir=None   # or provide a specific path to your dqn_univ3_search\n",
    "action_dim=5\n"
   ]
  },
  {
   "cell_type": "code",
   "execution_count": null,
   "id": "8e3f399d",
   "metadata": {},
   "outputs": [],
   "source": [
    "res4 = best_dqn_rollout(\n",
    "    train_data, train_time_data,\n",
    "    test_data,  test_time_data,\n",
    "    TRAIN_ENV_KW, TEST_ENV_KW,\n",
    "    result_root=result_root,\n",
    "    experiment_dir=experiment_dir,   # or provide a specific path to your dqn_univ3_search\n",
    "    action_dim=action_dim,\n",
    ")\n",
    "\n",
    "train_result4 = res4[\"train\"][\"dataframe\"]\n",
    "test_result4 = res4[\"test\"][\"dataframe\"]\n",
    "all_result4 = pd.concat([train_result4, test_result4])\n",
    "all_result4"
   ]
  },
  {
   "cell_type": "code",
   "execution_count": null,
   "id": "c02068e6",
   "metadata": {},
   "outputs": [],
   "source": [
    "t = train_result4[\"time\"]\n",
    "y = train_result4[\"cum_reward\"]\n",
    "a = train_result4[\"allocation_ratio\"]\n",
    "\n",
    "fig = pnl_plot(t, y, a,\n",
    "                top_title=\"Reward Trajectory (Train)\",\n",
    "                bottom_title=\"Action\",\n",
    "                vx=False\n",
    "                )\n",
    "fig.show()\n"
   ]
  },
  {
   "cell_type": "code",
   "execution_count": null,
   "id": "98c262ed",
   "metadata": {},
   "outputs": [],
   "source": [
    "t = test_result4[\"time\"]\n",
    "y = test_result4[\"cum_reward\"]\n",
    "a = test_result4[\"allocation_ratio\"]\n",
    "\n",
    "fig = pnl_plot(t, y, a,\n",
    "                top_title=\"Reward Trajectory (Test)\",\n",
    "                bottom_title=\"Action\",\n",
    "                vx=False\n",
    "                )\n",
    "fig.show()\n"
   ]
  },
  {
   "cell_type": "code",
   "execution_count": null,
   "id": "ed253af3",
   "metadata": {},
   "outputs": [],
   "source": [
    "t = all_result4[\"time\"]\n",
    "y = all_result4[\"step_reward\"].cumsum()\n",
    "a = all_result4[\"allocation_ratio\"]\n",
    "\n",
    "fig = pnl_plot(t, y, a,\n",
    "                top_title=\"Reward Trajectory (All)\",\n",
    "                bottom_title=\"Action\"\n",
    "                )\n",
    "fig.show()\n"
   ]
  },
  {
   "cell_type": "markdown",
   "id": "9082e018",
   "metadata": {},
   "source": [
    "## 5. Essential Features and Regime Label Based on All Features"
   ]
  },
  {
   "cell_type": "code",
   "execution_count": null,
   "id": "3c3e91e8",
   "metadata": {},
   "outputs": [],
   "source": [
    "# Extract numeric features for the environment (excluding time column)\n",
    "numeric_data = data[ESSENTIAL_FEATURES+REGIME_LABEL_BASED_ON_ALL_FEATURES].values\n",
    "time_data = data[[\"time\"]].values\n",
    "print(f\"\\nNumeric data shape: {numeric_data.shape}\")\n",
    "print(f\"Sample values: {numeric_data[0]}\")\n",
    "\n",
    "TRAIN_TEST_RATIO = 0.8\n",
    "TRAIN_TEST_SPLIT_POINT = int(numeric_data.shape[0] * 0.8)\n",
    "\n",
    "train_data = numeric_data[:TRAIN_TEST_SPLIT_POINT]\n",
    "train_time_data = time_data[:TRAIN_TEST_SPLIT_POINT]\n",
    "print(f\"\\nTest data shape: {train_data.shape}\")\n",
    "print(f\"Sample values: {numeric_data[0]}\")\n",
    "\n",
    "test_data = numeric_data[TRAIN_TEST_SPLIT_POINT:]\n",
    "test_time_data = time_data[TRAIN_TEST_SPLIT_POINT:]\n",
    "print(f\"\\nTrain data shape: {test_data.shape}\")\n",
    "print(f\"Sample values: {numeric_data[0]}\")"
   ]
  },
  {
   "cell_type": "code",
   "execution_count": null,
   "id": "94cc2e32",
   "metadata": {},
   "outputs": [],
   "source": [
    "TRAIN_ENV_KW = {\n",
    "    \"total_liquidity\": 1e17,\n",
    "    \"gas_cost\": 5.0,\n",
    "    \"fee_tier\": 0.0005,\n",
    "    \"max_steps\": train_data.shape[0],\n",
    "    \"start_index\": 0\n",
    "}\n",
    "\n",
    "num_samples=20\n",
    "experiment_name=\"ppo_univ3_search_5\"\n",
    "storage_root=\"./ray_results\""
   ]
  },
  {
   "cell_type": "code",
   "execution_count": null,
   "id": "cadb6388",
   "metadata": {},
   "outputs": [],
   "source": [
    "results, best = tune_dqn_with_ray(train_data, train_time_data, TRAIN_ENV_KW,\n",
    "                                  num_samples=num_samples,\n",
    "                                  experiment_name=experiment_name,\n",
    "                                  storage_root=storage_root)\n"
   ]
  },
  {
   "cell_type": "code",
   "execution_count": null,
   "id": "25c18e11",
   "metadata": {},
   "outputs": [],
   "source": [
    "TRAIN_ENV_KW = {\n",
    "    \"total_liquidity\": 1e17,\n",
    "    \"gas_cost\": 5.0,\n",
    "    \"fee_tier\": 0.0005,\n",
    "    \"max_steps\": train_data.shape[0],   # your env uses max_steps (not max_step)\n",
    "    \"start_index\": 0\n",
    "}\n",
    "\n",
    "TEST_ENV_KW = {\n",
    "    \"total_liquidity\": 1e17,\n",
    "    \"gas_cost\": 5.0,\n",
    "    \"fee_tier\": 0.0005,\n",
    "    \"max_steps\": test_data.shape[0],\n",
    "    \"start_index\": 0\n",
    "}\n",
    "\n",
    "result_root=\"./result\"\n",
    "experiment_dir=None   # or provide a specific path to your dqn_univ3_search\n",
    "action_dim=5\n"
   ]
  },
  {
   "cell_type": "code",
   "execution_count": null,
   "id": "c6abd3d5",
   "metadata": {},
   "outputs": [],
   "source": [
    "res5 = best_dqn_rollout(\n",
    "    train_data, train_time_data,\n",
    "    test_data,  test_time_data,\n",
    "    TRAIN_ENV_KW, TEST_ENV_KW,\n",
    "    result_root=result_root,\n",
    "    experiment_dir=experiment_dir,   # or provide a specific path to your dqn_univ3_search\n",
    "    action_dim=action_dim,\n",
    ")\n",
    "\n",
    "train_result5 = res5[\"train\"][\"dataframe\"]\n",
    "test_result5 = res5[\"test\"][\"dataframe\"]\n",
    "all_result5 = pd.concat([train_result5, test_result5])\n",
    "all_result5"
   ]
  },
  {
   "cell_type": "code",
   "execution_count": null,
   "id": "a891ee28",
   "metadata": {},
   "outputs": [],
   "source": [
    "t = train_result5[\"time\"]\n",
    "y = train_result5[\"cum_reward\"]\n",
    "a = train_result5[\"allocation_ratio\"]\n",
    "\n",
    "fig = pnl_plot(t, y, a,\n",
    "                top_title=\"Reward Trajectory (Train)\",\n",
    "                bottom_title=\"Action\",\n",
    "                vx=False\n",
    "                )\n",
    "fig.show()\n"
   ]
  },
  {
   "cell_type": "code",
   "execution_count": null,
   "id": "d6797ac7",
   "metadata": {},
   "outputs": [],
   "source": [
    "t = test_result5[\"time\"]\n",
    "y = test_result5[\"cum_reward\"]\n",
    "a = test_result5[\"allocation_ratio\"]\n",
    "\n",
    "fig = pnl_plot(t, y, a,\n",
    "                top_title=\"Reward Trajectory (Test)\",\n",
    "                bottom_title=\"Action\",\n",
    "                vx=False\n",
    "                )\n",
    "fig.show()\n"
   ]
  },
  {
   "cell_type": "code",
   "execution_count": null,
   "id": "3f82a217",
   "metadata": {},
   "outputs": [],
   "source": [
    "t = all_result5[\"time\"]\n",
    "y = all_result5[\"step_reward\"].cumsum()\n",
    "a = all_result5[\"allocation_ratio\"]\n",
    "\n",
    "fig = pnl_plot(t, y, a,\n",
    "                top_title=\"Reward Trajectory (All)\",\n",
    "                bottom_title=\"Action\"\n",
    "                )\n",
    "fig.show()\n"
   ]
  }
 ],
 "metadata": {
  "kernelspec": {
   "display_name": "elrl",
   "language": "python",
   "name": "python3"
  },
  "language_info": {
   "codemirror_mode": {
    "name": "ipython",
    "version": 3
   },
   "file_extension": ".py",
   "mimetype": "text/x-python",
   "name": "python",
   "nbconvert_exporter": "python",
   "pygments_lexer": "ipython3",
   "version": "3.10.15"
  }
 },
 "nbformat": 4,
 "nbformat_minor": 5
}
